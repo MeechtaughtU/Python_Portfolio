{
 "cells": [
  {
   "cell_type": "markdown",
   "id": "98eb2aa6",
   "metadata": {},
   "source": [
    "# Calculator"
   ]
  },
  {
   "cell_type": "code",
   "execution_count": 1,
   "id": "3428fea8",
   "metadata": {},
   "outputs": [],
   "source": [
    "def add(x,y):\n",
    "    return x + y\n",
    "\n",
    "def subtract(x,y):\n",
    "    return x - y\n",
    "\n",
    "def multiply(x,y):\n",
    "    return x * y\n",
    "\n",
    "def divide(x,y):\n",
    "    return x / y"
   ]
  },
  {
   "cell_type": "code",
   "execution_count": 6,
   "id": "d274f3bb",
   "metadata": {},
   "outputs": [
    {
     "name": "stdout",
     "output_type": "stream",
     "text": [
      "Enter 'A' for Addition.\n",
      "Enter 'S' for Subtraction.\n",
      "Enter 'M' for Multiplication.\n",
      "Enter 'D' for Division.\n",
      "Enter Choice (A,S,M,D): M\n",
      "Enter first number: 3\n",
      "Enter second number: 9\n",
      "Result: 3.0 * 9.0 = 27.0\n",
      "Want to do another calculation? (yes/no?): n\n"
     ]
    }
   ],
   "source": [
    "print(\"Enter 'A' for Addition.\")\n",
    "print(\"Enter 'S' for Subtraction.\")\n",
    "print(\"Enter 'M' for Multiplication.\")\n",
    "print(\"Enter 'D' for Division.\")\n",
    "\n",
    "\n",
    "while True:\n",
    "    choice = input('Enter Choice (A,S,M,D): ')\n",
    "    if choice.upper() in ('A','ADD','ADDITION','S','SUBTRACT','SUBTRACTION','M','MULTIPLY','MULTIPLICATION','D','DIVIDE','DIVISION'):\n",
    "            num1 = float(input('Enter first number: '))\n",
    "            num2 = float(input('Enter second number: '))\n",
    "\n",
    "            if choice.upper() in('A','ADD','ADDITION'):\n",
    "                print('Result:' ,num1, '+', num2, '=', add(num1, num2))\n",
    "\n",
    "            elif choice.upper() in('S','SUBTRACT','SUBTRACTION'):\n",
    "                print('Result:' ,num1, '-', num2, '=', subtract(num1, num2))\n",
    "\n",
    "            elif choice.upper() in('M','MULTIPLY','MULTIPLICATION'):\n",
    "                print('Result:' ,num1, '*', num2, '=', multiply(num1, num2))\n",
    "\n",
    "            elif choice.upper() in('D','DIVIDE','DIVISION'):\n",
    "                print('Result:' ,num1, '/', num2, '=', divide(num1, num2))\n",
    "\n",
    "    else:\n",
    "        print(\"Please input correct choice.\")\n",
    "        \n",
    "    next_calculation = input(\"Want to do another calculation? (yes/no?): \")\n",
    "    if next_calculation.lower() in ('no','n','nope'):\n",
    "        break"
   ]
  },
  {
   "cell_type": "code",
   "execution_count": null,
   "id": "aa5737e6",
   "metadata": {},
   "outputs": [],
   "source": []
  },
  {
   "cell_type": "code",
   "execution_count": null,
   "id": "744fe172",
   "metadata": {},
   "outputs": [],
   "source": []
  }
 ],
 "metadata": {
  "kernelspec": {
   "display_name": "Python 3 (ipykernel)",
   "language": "python",
   "name": "python3"
  },
  "language_info": {
   "codemirror_mode": {
    "name": "ipython",
    "version": 3
   },
   "file_extension": ".py",
   "mimetype": "text/x-python",
   "name": "python",
   "nbconvert_exporter": "python",
   "pygments_lexer": "ipython3",
   "version": "3.11.5"
  }
 },
 "nbformat": 4,
 "nbformat_minor": 5
}
