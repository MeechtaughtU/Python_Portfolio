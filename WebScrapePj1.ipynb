{
 "cells": [
  {
   "cell_type": "markdown",
   "id": "a2829bca",
   "metadata": {},
   "source": [
    "# Scraping Data from a Real Website + Pandas"
   ]
  },
  {
   "cell_type": "code",
   "execution_count": 1,
   "id": "951dc843",
   "metadata": {},
   "outputs": [],
   "source": [
    "from bs4 import BeautifulSoup"
   ]
  },
  {
   "cell_type": "code",
   "execution_count": 5,
   "id": "51f43a3a",
   "metadata": {},
   "outputs": [],
   "source": [
    "import requests"
   ]
  },
  {
   "cell_type": "code",
   "execution_count": 9,
   "id": "5c427d60",
   "metadata": {},
   "outputs": [],
   "source": [
    "url = 'https://www.worldometers.info/world-population/population-by-country/'\n",
    "\n",
    "page = requests.get(url)\n",
    "\n",
    "soup = BeautifulSoup(page.text, 'html')"
   ]
  },
  {
   "cell_type": "code",
   "execution_count": 10,
   "id": "fa40a66b",
   "metadata": {},
   "outputs": [
    {
     "name": "stdout",
     "output_type": "stream",
     "text": [
      "<!DOCTYPE html>\n",
      "<!--[if IE 8]> <html lang=\"en\" class=\"ie8\"> <![endif]--><!--[if IE 9]> <html lang=\"en\" class=\"ie9\"> <![endif]--><!--[if !IE]><!--><html lang=\"en\"> <!--<![endif]--> <head> <meta charset=\"utf-8\"/> <meta content=\"IE=edge\" http-equiv=\"X-UA-Compatible\"/> <meta content=\"width=device-width, initial-scale=1\" name=\"viewport\"/> <title>Population by Country (2024) - Worldometer</title><meta content=\"List of countries and dependencies in the world ranked by population, from the most populated. Growth rate, median age, fertility rate, area, density, population density, urbanization, urban population, share of world population.\" name=\"description\"/><!-- Favicon --><link href=\"/favicon/favicon.ico\" rel=\"shortcut icon\" type=\"image/x-icon\"/><link href=\"/favicon/apple-icon-57x57.png\" rel=\"apple-touch-icon\" sizes=\"57x57\"/><link href=\"/favicon/apple-icon-60x60.png\" rel=\"apple-touch-icon\" sizes=\"60x60\"/><link href=\"/favicon/apple-icon-72x72.png\" rel=\"apple-touch-icon\" sizes=\"72x72\"/><link href=\"/favicon/apple-icon-76x76.png\" rel=\"apple-touch-icon\" sizes=\"76x76\"/><link href=\"/favicon/apple-icon-114x114.png\" rel=\"apple-touch-icon\" sizes=\"114x114\"/><link href=\"/favicon/apple-icon-120x120.png\" rel=\"apple-touch-icon\" sizes=\"120x120\"/><link href=\"/favicon/apple-icon-144x144.png\" rel=\"apple-touch-icon\" sizes=\"144x144\"/><link href=\"/favicon/apple-icon-152x152.png\" rel=\"apple-touch-icon\" sizes=\"152x152\"/><link href=\"/favicon/apple-icon-180x180.png\" rel=\"apple-touch-icon\" sizes=\"180x180\"/><link href=\"/favicon/android-icon-192x192.png\" rel=\"icon\" sizes=\"192x192\" type=\"image/png\"/><link href=\"/favicon/favicon-32x32.png\" rel=\"icon\" sizes=\"32x32\" type=\"image/png\"/><link href=\"/favicon/favicon-96x96.png\" rel=\"icon\" sizes=\"96x96\" type=\"image/png\"/><link href=\"/favicon/favicon-16x16.png\" rel=\"icon\" sizes=\"16x16\" type=\"image/png\"/><link href=\"/favicon/manifest.json\" rel=\"manifest\"/><meta content=\"#ffffff\" name=\"msapplication-TileColor\"/><meta content=\"/favicon/ms-icon-144x144.png\" name=\"msapplication-TileImage\"/><meta content=\"#ffffff\" name=\"theme-color\"/><!-- og image --><meta content=\"http://www.worldometers.info/img/worldometers-fb.jpg\" property=\"og:image\"/> <!-- Bootstrap --> <link href=\"/css/bootstrap.min.css\" rel=\"stylesheet\"/><link href=\"/wm16.css\" rel=\"stylesheet\"/><!-- font awesome --><link href=\"https://maxcdn.bootstrapcdn.com/font-awesome/4.4.0/css/font-awesome.min.css\" rel=\"stylesheet\"/> <!-- HTML5 shim and Respond.js for IE8 support of HTML5 elements and media queries --> <!--[if lt IE 9]> <script src=\"https://oss.maxcdn.com/html5shiv/3.7.2/html5shiv.min.js\"></script> <script src=\"https://oss.maxcdn.com/respond/1.4.2/respond.min.js\"></script> <![endif]--><!-- <script src=\"https://ajax.googleapis.com/ajax/libs/jquery/2.1.3/jquery.min.js\"></script>--> <script src=\"/js/jquery.min.js\"></script> <!-- Include all compiled plugins (below), or include individual files as needed --> <script src=\"/js/bootstrap.min.js\"></script> <!-- IE10 viewport hack for Surface/desktop Windows 8 bug --> <script src=\"/js/ie10-viewport-bug-workaround.js\"></script><!-- tables<link rel=\"stylesheet\" type=\"text/css\" href=\"https://cdn.datatables.net/s/bs-3.3.5/dt-1.10.10,fh-3.1.0,r-2.0.0/datatables.min.css\"/><script type=\"text/javascript\" src=\"https://cdn.datatables.net/s/bs-3.3.5/dt-1.10.10,fh-3.1.0,r-2.0.0/datatables.min.js\"></script><link rel=\"stylesheet\" type=\"text/css\" href=\"https://cdn.datatables.net/s/dt/dt-1.10.10,r-2.0.0/datatables.min.css\"/> <script type=\"text/javascript\" src=\"https://cdn.datatables.net/s/dt/dt-1.10.10,r-2.0.0/datatables.min.js\"></script> --><link href=\"https://cdn.datatables.net/1.10.19/css/dataTables.bootstrap.min.css\" rel=\"stylesheet\" type=\"text/css\"/><script src=\"https://cdn.datatables.net/1.10.19/js/jquery.dataTables.min.js\" type=\"text/javascript\"></script><script src=\"https://cdn.datatables.net/1.10.19/js/dataTables.bootstrap.min.js\" type=\"text/javascript\"></script><script class=\"init\" type=\"text/javascript\">$.extend( $.fn.dataTable.defaults, { responsive: true\n",
      "} );\t$(document).ready(function() { $('#example2').dataTable( { \"scrollCollapse\": true,\t\"sDom\": '<\"bottom\"flp><\"clear\">', \"paging\": false } );\n",
      "} );</script><script class=\"init\" type=\"text/javascript\">$.extend( $.fn.dataTable.defaults, { responsive: true\n",
      "} );\t$(document).ready(function() { $('#table3').dataTable( { \"scrollCollapse\": true, \"order\": [[ 1, 'desc' ]],\t\"sDom\": '<\"bottom\"flp><\"clear\">', \"paging\": false } );\n",
      "} );</script><script class=\"init\" type=\"text/javascript\">$.extend( $.fn.dataTable.defaults, { responsive: true\n",
      "} );\t$(document).ready(function() { $('#example').dataTable( { \"scrollCollapse\": true,\t\"searching\": false,\t\"sDom\": '<\"top\">rt<\"bottom\"flp><\"clear\">', \"paging\": false } );\n",
      "} );</script><script class=\"init\" type=\"text/javascript\">$(document).ready(function() {\t$('#popbycountry').dataTable();\n",
      "} );</script></head><body><!-- Google tag (gtag.js) --><script async=\"\" src=\"https://www.googletagmanager.com/gtag/js?id=G-ZDP3BFSX60\"></script><script> window.dataLayer = window.dataLayer || []; function gtag(){dataLayer.push(arguments);} gtag('js', new Date()); gtag('config', 'G-ZDP3BFSX60');</script><script async=\"\" crossorigin=\"anonymous\" src=\"https://pagead2.googlesyndication.com/pagead/js/adsbygoogle.js?client=ca-pub-3701697624350410\"></script><style type=\"text/css\"> .style1 { color: #666666 }</style><div class=\"navbar navbar-default\"> <div class=\"container\"> <div class=\"navbar-header\"> <div class=\"logo\"><a class=\"navbar-brand\" href=\"/\"><img border=\"0\" src=\"/img/worldometers-logo.gif\" title=\"Worldometer\"/></a></div> <button class=\"navbar-toggle\" data-target=\"#navbar-main\" data-toggle=\"collapse\" type=\"button\"> <span class=\"icon-bar\"></span> <span class=\"icon-bar\"></span> <span class=\"icon-bar\"></span> </button> </div> <div class=\"navbar-collapse collapse\" id=\"navbar-main\"> <ul class=\"nav navbar-nav\"> <li><a href=\"/coronavirus/\">Coronavirus</a></li> <li><a href=\"/population/\">Population</a></li> </ul> </div> </div></div><!-- MAIN --><div class=\"container\"><!-- TOP AD --><div class=\"row\"><div style=\"padding-top:15px; padding-bottom:15px; text-align:center;\"><script async=\"\" crossorigin=\"anonymous\" src=\"https://pagead2.googlesyndication.com/pagead/js/adsbygoogle.js?client=ca-pub-3701697624350410\"></script><!-- wm-top-24 --><ins class=\"adsbygoogle\" data-ad-client=\"ca-pub-3701697624350410\" data-ad-format=\"auto\" data-ad-slot=\"5369103488\" data-full-width-responsive=\"true\" style=\"display:block\"></ins><script> (adsbygoogle = window.adsbygoogle || []).push({});</script></div></div><!-- TOP AD --><!-- MAIN --><!-- CENTER --><div class=\"row\"><div class=\"col-md-12\"><!-- *** CONTENT A *** --><div class=\"content-inner\"><ul class=\"breadcrumb\"> <li><a href=\"/\">W</a></li><li><a href=\"/population/\">Population</a></li> <li class=\"active\">Population by Country</li></ul><div class=\"col-md-12\"> <h1>Countries in the world by population (2024)</h1><p>This list includes both <strong>countries</strong> and <strong>dependent territories</strong>. Data based on the latest <em>United Nations Population Division</em> estimates.<br/> Click on the name of the country or dependency for current estimates (live population clock), historical data, and projected figures. <br/> See also: <a href=\"/world-population/\">World Population </a><br/> </p></div><div class=\"table-responsive\" style=\"font-size:14px; width:100%\"> <table cellspacing=\"0\" class=\"table table-striped table-bordered\" id=\"example2\" width=\"100%\"> <thead> <tr> <th>#</th> <th>Country (or dependency)</th> <th>Population<br/> (2024)</th> <th>Yearly<br/> Change</th> <th>Net<br/> Change</th> <th>Density<br/> (P/Km²)</th> <th>Land Area<br/> (Km²)</th> <th>Migrants<br/> (net)</th> <th>Fert.<br/> Rate</th> <th>Med.<br/> Age</th> <th>Urban<br/> Pop %</th> <th>World<br/> Share</th> </tr> </thead> <tbody> <tr> <td>1</td> <td style=\"font-weight: bold; font-size:15px; text-align:left\"><a href=\"/world-population/india-population/\">India</a></td> <td style=\"font-weight: bold;\">1,450,935,791</td> <td>0.89 %</td> <td>12,866,195</td> <td>488</td> <td>2,973,190</td> <td>-630,830</td> <td>2.0</td> <td>28</td> <td>37 %</td> <td>17.78 %</td> </tr> <tr> <td>2</td> <td style=\"font-weight: bold; font-size:15px; text-align:left\"><a href=\"/world-population/china-population/\">China</a></td> <td style=\"font-weight: bold;\">1,419,321,278</td> <td>-0.23 %</td> <td>-3,263,655</td> <td>151</td> <td>9,388,211</td> <td>-318,992</td> <td>1.0</td> <td>40</td> <td>66 %</td> <td>17.39 %</td> </tr> <tr> <td>3</td> <td style=\"font-weight: bold; font-size:15px; text-align:left\"><a href=\"/world-population/us-population/\">United States</a></td> <td style=\"font-weight: bold;\">345,426,571</td> <td>0.57 %</td> <td>1,949,236</td> <td>38</td> <td>9,147,420</td> <td>1,286,132</td> <td>1.6</td> <td>38</td> <td>82 %</td> <td>4.23 %</td> </tr> <tr> <td>4</td> <td style=\"font-weight: bold; font-size:15px; text-align:left\"><a href=\"/world-population/indonesia-population/\">Indonesia</a></td> <td style=\"font-weight: bold;\">283,487,931</td> <td>0.82 %</td> <td>2,297,864</td> <td>156</td> <td>1,811,570</td> <td>-38,469</td> <td>2.1</td> <td>30</td> <td>59 %</td> <td>3.47 %</td> </tr> <tr> <td>5</td> <td style=\"font-weight: bold; font-size:15px; text-align:left\"><a href=\"/world-population/pakistan-population/\">Pakistan</a></td> <td style=\"font-weight: bold;\">251,269,164</td> <td>1.52 %</td> <td>3,764,669</td> <td>326</td> <td>770,880</td> <td>-1,401,173</td> <td>3.5</td> <td>20</td> <td>34 %</td> <td>3.08 %</td> </tr> <tr> <td>6</td> <td style=\"font-weight: bold; font-size:15px; text-align:left\"><a href=\"/world-population/nigeria-population/\">Nigeria</a></td> <td style=\"font-weight: bold;\">232,679,478</td> <td>2.10 %</td> <td>4,796,533</td> <td>255</td> <td>910,770</td> <td>-35,202</td> <td>4.4</td> <td>18</td> <td>54 %</td> <td>2.85 %</td> </tr> <tr> <td>7</td> <td style=\"font-weight: bold; font-size:15px; text-align:left\"><a href=\"/world-population/brazil-population/\">Brazil</a></td> <td style=\"font-weight: bold;\">211,998,573</td> <td>0.41 %</td> <td>857,844</td> <td>25</td> <td>8,358,140</td> <td>-225,510</td> <td>1.6</td> <td>34</td> <td>91 %</td> <td>2.60 %</td> </tr> <tr> <td>8</td> <td style=\"font-weight: bold; font-size:15px; text-align:left\"><a href=\"/world-population/bangladesh-population/\">Bangladesh</a></td> <td style=\"font-weight: bold;\">173,562,364</td> <td>1.22 %</td> <td>2,095,374</td> <td>1,333</td> <td>130,170</td> <td>-473,362</td> <td>2.1</td> <td>26</td> <td>42 %</td> <td>2.13 %</td> </tr> <tr> <td>9</td> <td style=\"font-weight: bold; font-size:15px; text-align:left\"><a href=\"/world-population/russia-population/\">Russia</a></td> <td style=\"font-weight: bold;\">144,820,423</td> <td>-0.43 %</td> <td>-620,077</td> <td>9</td> <td>16,376,870</td> <td>-178,042</td> <td>1.5</td> <td>40</td> <td>75 %</td> <td>1.77 %</td> </tr> <tr> <td>10</td> <td style=\"font-weight: bold; font-size:15px; text-align:left\"><a href=\"/world-population/ethiopia-population/\">Ethiopia</a></td> <td style=\"font-weight: bold;\">132,059,767</td> <td>2.62 %</td> <td>3,368,075</td> <td>132</td> <td>1,000,000</td> <td>30,069</td> <td>3.9</td> <td>19</td> <td>22 %</td> <td>1.62 %</td> </tr> <tr> <td>11</td> <td style=\"font-weight: bold; font-size:15px; text-align:left\"><a href=\"/world-population/mexico-population/\">Mexico</a></td> <td style=\"font-weight: bold;\">130,861,007</td> <td>0.86 %</td> <td>1,121,248</td> <td>67</td> <td>1,943,950</td> <td>-104,581</td> <td>1.9</td> <td>29</td> <td>87 %</td> <td>1.60 %</td> </tr> <tr> <td>12</td> <td style=\"font-weight: bold; font-size:15px; text-align:left\"><a href=\"/world-population/japan-population/\">Japan</a></td> <td style=\"font-weight: bold;\">123,753,041</td> <td>-0.50 %</td> <td>-617,906</td> <td>339</td> <td>364,555</td> <td>153,357</td> <td>1.2</td> <td>49</td> <td>93 %</td> <td>1.52 %</td> </tr> <tr> <td>13</td> <td style=\"font-weight: bold; font-size:15px; text-align:left\"><a href=\"/world-population/egypt-population/\">Egypt</a></td> <td style=\"font-weight: bold;\">116,538,258</td> <td>1.75 %</td> <td>2,002,486</td> <td>117</td> <td>995,450</td> <td>123,884</td> <td>2.7</td> <td>24</td> <td>41 %</td> <td>1.43 %</td> </tr> <tr> <td>14</td> <td style=\"font-weight: bold; font-size:15px; text-align:left\"><a href=\"/world-population/philippines-population/\">Philippines</a></td> <td style=\"font-weight: bold;\">115,843,670</td> <td>0.83 %</td> <td>952,471</td> <td>389</td> <td>298,170</td> <td>-160,373</td> <td>1.9</td> <td>26</td> <td>49 %</td> <td>1.42 %</td> </tr> <tr> <td>15</td> <td style=\"font-weight: bold; font-size:15px; text-align:left\"><a href=\"/world-population/democratic-republic-of-the-congo-population/\">DR Congo</a></td> <td style=\"font-weight: bold;\">109,276,265</td> <td>3.30 %</td> <td>3,486,534</td> <td>48</td> <td>2,267,050</td> <td>-26,968</td> <td>6.0</td> <td>16</td> <td>44 %</td> <td>1.34 %</td> </tr> <tr> <td>16</td> <td style=\"font-weight: bold; font-size:15px; text-align:left\"><a href=\"/world-population/vietnam-population/\">Vietnam</a></td> <td style=\"font-weight: bold;\">100,987,686</td> <td>0.63 %</td> <td>635,494</td> <td>326</td> <td>310,070</td> <td>-59,645</td> <td>1.9</td> <td>33</td> <td>41 %</td> <td>1.24 %</td> </tr> <tr> <td>17</td> <td style=\"font-weight: bold; font-size:15px; text-align:left\"><a href=\"/world-population/iran-population/\">Iran</a></td> <td style=\"font-weight: bold;\">91,567,738</td> <td>1.06 %</td> <td>959,031</td> <td>56</td> <td>1,628,550</td> <td>190,156</td> <td>1.7</td> <td>33</td> <td>73 %</td> <td>1.12 %</td> </tr> <tr> <td>18</td> <td style=\"font-weight: bold; font-size:15px; text-align:left\"><a href=\"/world-population/turkey-population/\">Turkey</a></td> <td style=\"font-weight: bold;\">87,473,805</td> <td>0.23 %</td> <td>203,304</td> <td>114</td> <td>769,630</td> <td>-275,952</td> <td>1.6</td> <td>33</td> <td>76 %</td> <td>1.07 %</td> </tr> <tr> <td>19</td> <td style=\"font-weight: bold; font-size:15px; text-align:left\"><a href=\"/world-population/germany-population/\">Germany</a></td> <td style=\"font-weight: bold;\">84,552,242</td> <td>0.00 %</td> <td>4,011</td> <td>243</td> <td>348,560</td> <td>36,954</td> <td>1.4</td> <td>45</td> <td>76 %</td> <td>1.04 %</td> </tr> <tr> <td>20</td> <td style=\"font-weight: bold; font-size:15px; text-align:left\"><a href=\"/world-population/thailand-population/\">Thailand</a></td> <td style=\"font-weight: bold;\">71,668,011</td> <td>-0.05 %</td> <td>-34,424</td> <td>140</td> <td>510,890</td> <td>23,321</td> <td>1.2</td> <td>40</td> <td>53 %</td> <td>0.88 %</td> </tr> <tr> <td>21</td> <td style=\"font-weight: bold; font-size:15px; text-align:left\"><a href=\"/world-population/uk-population/\">United Kingdom</a></td> <td style=\"font-weight: bold;\">69,138,192</td> <td>0.66 %</td> <td>455,230</td> <td>286</td> <td>241,930</td> <td>417,114</td> <td>1.6</td> <td>40</td> <td>84 %</td> <td>0.85 %</td> </tr> <tr> <td>22</td> <td style=\"font-weight: bold; font-size:15px; text-align:left\"><a href=\"/world-population/tanzania-population/\">Tanzania</a></td> <td style=\"font-weight: bold;\">68,560,157</td> <td>2.92 %</td> <td>1,942,551</td> <td>77</td> <td>885,800</td> <td>-29,865</td> <td>4.5</td> <td>17</td> <td>39 %</td> <td>0.84 %</td> </tr> <tr> <td>23</td> <td style=\"font-weight: bold; font-size:15px; text-align:left\"><a href=\"/world-population/france-population/\">France</a></td> <td style=\"font-weight: bold;\">66,548,530</td> <td>0.17 %</td> <td>109,708</td> <td>122</td> <td>547,557</td> <td>90,527</td> <td>1.6</td> <td>42</td> <td>82 %</td> <td>0.82 %</td> </tr> <tr> <td>24</td> <td style=\"font-weight: bold; font-size:15px; text-align:left\"><a href=\"/world-population/south-africa-population/\">South Africa</a></td> <td style=\"font-weight: bold;\">64,007,187</td> <td>1.26 %</td> <td>794,803</td> <td>53</td> <td>1,213,090</td> <td>166,972</td> <td>2.2</td> <td>28</td> <td>66 %</td> <td>0.78 %</td> </tr> <tr> <td>25</td> <td style=\"font-weight: bold; font-size:15px; text-align:left\"><a href=\"/world-population/italy-population/\">Italy</a></td> <td style=\"font-weight: bold;\">59,342,867</td> <td>-0.26 %</td> <td>-156,586</td> <td>202</td> <td>294,140</td> <td>95,246</td> <td>1.2</td> <td>48</td> <td>72 %</td> <td>0.73 %</td> </tr> <tr> <td>26</td> <td style=\"font-weight: bold; font-size:15px; text-align:left\"><a href=\"/world-population/kenya-population/\">Kenya</a></td> <td style=\"font-weight: bold;\">56,432,944</td> <td>1.98 %</td> <td>1,093,941</td> <td>99</td> <td>569,140</td> <td>-19,781</td> <td>3.2</td> <td>20</td> <td>31 %</td> <td>0.69 %</td> </tr> <tr> <td>27</td> <td style=\"font-weight: bold; font-size:15px; text-align:left\"><a href=\"/world-population/myanmar-population/\">Myanmar</a></td> <td style=\"font-weight: bold;\">54,500,091</td> <td>0.68 %</td> <td>366,293</td> <td>83</td> <td>653,290</td> <td>-37,979</td> <td>2.1</td> <td>30</td> <td>34 %</td> <td>0.67 %</td> </tr> <tr> <td>28</td> <td style=\"font-weight: bold; font-size:15px; text-align:left\"><a href=\"/world-population/colombia-population/\">Colombia</a></td> <td style=\"font-weight: bold;\">52,886,363</td> <td>1.08 %</td> <td>565,211</td> <td>48</td> <td>1,109,500</td> <td>141,643</td> <td>1.6</td> <td>32</td> <td>81 %</td> <td>0.65 %</td> </tr> <tr> <td>29</td> <td style=\"font-weight: bold; font-size:15px; text-align:left\"><a href=\"/world-population/south-korea-population/\">South Korea</a></td> <td style=\"font-weight: bold;\">51,717,590</td> <td>-0.06 %</td> <td>-31,149</td> <td>532</td> <td>97,230</td> <td>75,963</td> <td>0.7</td> <td>45</td> <td>82 %</td> <td>0.63 %</td> </tr> <tr> <td>30</td> <td style=\"font-weight: bold; font-size:15px; text-align:left\"><a href=\"/world-population/sudan-population/\">Sudan</a></td> <td style=\"font-weight: bold;\">50,448,963</td> <td>0.81 %</td> <td>406,172</td> <td>29</td> <td>1,765,048</td> <td>-544,257</td> <td>4.3</td> <td>18</td> <td>35 %</td> <td>0.62 %</td> </tr> <tr> <td>31</td> <td style=\"font-weight: bold; font-size:15px; text-align:left\"><a href=\"/world-population/uganda-population/\">Uganda</a></td> <td style=\"font-weight: bold;\">50,015,092</td> <td>2.79 %</td> <td>1,358,491</td> <td>250</td> <td>199,810</td> <td>-117,924</td> <td>4.2</td> <td>17</td> <td>29 %</td> <td>0.61 %</td> </tr> <tr> <td>32</td> <td style=\"font-weight: bold; font-size:15px; text-align:left\"><a href=\"/world-population/spain-population/\">Spain</a></td> <td style=\"font-weight: bold;\">47,910,526</td> <td>0.00 %</td> <td>-1,053</td> <td>96</td> <td>498,800</td> <td>111,674</td> <td>1.2</td> <td>45</td> <td>79 %</td> <td>0.59 %</td> </tr> <tr> <td>33</td> <td style=\"font-weight: bold; font-size:15px; text-align:left\"><a href=\"/world-population/algeria-population/\">Algeria</a></td> <td style=\"font-weight: bold;\">46,814,308</td> <td>1.41 %</td> <td>650,089</td> <td>20</td> <td>2,381,740</td> <td>-31,240</td> <td>2.7</td> <td>28</td> <td>74 %</td> <td>0.57 %</td> </tr> <tr> <td>34</td> <td style=\"font-weight: bold; font-size:15px; text-align:left\"><a href=\"/world-population/iraq-population/\">Iraq</a></td> <td style=\"font-weight: bold;\">46,042,015</td> <td>2.15 %</td> <td>967,966</td> <td>106</td> <td>434,320</td> <td>-17,735</td> <td>3.2</td> <td>21</td> <td>72 %</td> <td>0.56 %</td> </tr> <tr> <td>35</td> <td style=\"font-weight: bold; font-size:15px; text-align:left\"><a href=\"/world-population/argentina-population/\">Argentina</a></td> <td style=\"font-weight: bold;\">45,696,159</td> <td>0.35 %</td> <td>157,758</td> <td>17</td> <td>2,736,690</td> <td>3,454</td> <td>1.5</td> <td>33</td> <td>95 %</td> <td>0.56 %</td> </tr> <tr> <td>36</td> <td style=\"font-weight: bold; font-size:15px; text-align:left\"><a href=\"/world-population/afghanistan-population/\">Afghanistan</a></td> <td style=\"font-weight: bold;\">42,647,492</td> <td>2.88 %</td> <td>1,192,731</td> <td>65</td> <td>652,860</td> <td>-44,089</td> <td>4.8</td> <td>17</td> <td>27 %</td> <td>0.52 %</td> </tr> <tr> <td>37</td> <td style=\"font-weight: bold; font-size:15px; text-align:left\"><a href=\"/world-population/yemen-population/\">Yemen</a></td> <td style=\"font-weight: bold;\">40,583,164</td> <td>3.03 %</td> <td>1,192,365</td> <td>77</td> <td>527,970</td> <td>-10,482</td> <td>4.5</td> <td>18</td> <td>33 %</td> <td>0.50 %</td> </tr> <tr> <td>38</td> <td style=\"font-weight: bold; font-size:15px; text-align:left\"><a href=\"/world-population/canada-population/\">Canada</a></td> <td style=\"font-weight: bold;\">39,742,430</td> <td>1.13 %</td> <td>443,325</td> <td>4</td> <td>9,093,510</td> <td>368,599</td> <td>1.3</td> <td>40</td> <td>80 %</td> <td>0.49 %</td> </tr> <tr> <td>39</td> <td style=\"font-weight: bold; font-size:15px; text-align:left\"><a href=\"/world-population/poland-population/\">Poland</a></td> <td style=\"font-weight: bold;\">38,539,201</td> <td>-0.58 %</td> <td>-223,643</td> <td>126</td> <td>306,230</td> <td>-238,062</td> <td>1.3</td> <td>42</td> <td>59 %</td> <td>0.47 %</td> </tr> <tr> <td>40</td> <td style=\"font-weight: bold; font-size:15px; text-align:left\"><a href=\"/world-population/morocco-population/\">Morocco</a></td> <td style=\"font-weight: bold;\">38,081,173</td> <td>0.98 %</td> <td>368,668</td> <td>85</td> <td>446,300</td> <td>-46,802</td> <td>2.2</td> <td>30</td> <td>67 %</td> <td>0.47 %</td> </tr> <tr> <td>41</td> <td style=\"font-weight: bold; font-size:15px; text-align:left\"><a href=\"/world-population/angola-population/\">Angola</a></td> <td style=\"font-weight: bold;\">37,885,849</td> <td>3.09 %</td> <td>1,135,943</td> <td>30</td> <td>1,246,700</td> <td>-2,629</td> <td>5.0</td> <td>17</td> <td>68 %</td> <td>0.46 %</td> </tr> <tr> <td>42</td> <td style=\"font-weight: bold; font-size:15px; text-align:left\"><a href=\"/world-population/ukraine-population/\">Ukraine</a></td> <td style=\"font-weight: bold;\">37,860,221</td> <td>0.34 %</td> <td>127,385</td> <td>65</td> <td>579,320</td> <td>1,146,012</td> <td>1.0</td> <td>42</td> <td>79 %</td> <td>0.46 %</td> </tr> <tr> <td>43</td> <td style=\"font-weight: bold; font-size:15px; text-align:left\"><a href=\"/world-population/uzbekistan-population/\">Uzbekistan</a></td> <td style=\"font-weight: bold;\">36,361,859</td> <td>1.99 %</td> <td>709,552</td> <td>85</td> <td>425,400</td> <td>-7,066</td> <td>3.5</td> <td>27</td> <td>48 %</td> <td>0.45 %</td> </tr> <tr> <td>44</td> <td style=\"font-weight: bold; font-size:15px; text-align:left\"><a href=\"/world-population/malaysia-population/\">Malaysia</a></td> <td style=\"font-weight: bold;\">35,557,673</td> <td>1.23 %</td> <td>431,375</td> <td>108</td> <td>328,550</td> <td>174,770</td> <td>1.5</td> <td>31</td> <td>77 %</td> <td>0.44 %</td> </tr> <tr> <td>45</td> <td style=\"font-weight: bold; font-size:15px; text-align:left\"><a href=\"/world-population/mozambique-population/\">Mozambique</a></td> <td style=\"font-weight: bold;\">34,631,766</td> <td>2.96 %</td> <td>996,606</td> <td>44</td> <td>786,380</td> <td>-38,940</td> <td>4.7</td> <td>16</td> <td>41 %</td> <td>0.42 %</td> </tr> <tr> <td>46</td> <td style=\"font-weight: bold; font-size:15px; text-align:left\"><a href=\"/world-population/ghana-population/\">Ghana</a></td> <td style=\"font-weight: bold;\">34,427,414</td> <td>1.89 %</td> <td>639,500</td> <td>151</td> <td>227,540</td> <td>-13,114</td> <td>3.3</td> <td>21</td> <td>58 %</td> <td>0.42 %</td> </tr> <tr> <td>47</td> <td style=\"font-weight: bold; font-size:15px; text-align:left\"><a href=\"/world-population/peru-population/\">Peru</a></td> <td style=\"font-weight: bold;\">34,217,848</td> <td>1.10 %</td> <td>372,231</td> <td>27</td> <td>1,280,000</td> <td>18,406</td> <td>2.0</td> <td>30</td> <td>80 %</td> <td>0.42 %</td> </tr> <tr> <td>48</td> <td style=\"font-weight: bold; font-size:15px; text-align:left\"><a href=\"/world-population/saudi-arabia-population/\">Saudi Arabia</a></td> <td style=\"font-weight: bold;\">33,962,757</td> <td>2.10 %</td> <td>698,465</td> <td>16</td> <td>2,149,690</td> <td>122,170</td> <td>2.3</td> <td>30</td> <td>92 %</td> <td>0.42 %</td> </tr> <tr> <td>49</td> <td style=\"font-weight: bold; font-size:15px; text-align:left\"><a href=\"/world-population/madagascar-population/\">Madagascar</a></td> <td style=\"font-weight: bold;\">31,964,956</td> <td>2.47 %</td> <td>769,024</td> <td>55</td> <td>581,795</td> <td>-1,795</td> <td>3.9</td> <td>19</td> <td>40 %</td> <td>0.39 %</td> </tr> <tr> <td>50</td> <td style=\"font-weight: bold; font-size:15px; text-align:left\"><a href=\"/world-population/cote-d-ivoire-population/\">Côte d'Ivoire</a></td> <td style=\"font-weight: bold;\">31,934,230</td> <td>2.47 %</td> <td>768,576</td> <td>100</td> <td>318,000</td> <td>7,838</td> <td>4.2</td> <td>18</td> <td>49 %</td> <td>0.39 %</td> </tr> <tr> <td>51</td> <td style=\"font-weight: bold; font-size:15px; text-align:left\"><a href=\"/world-population/nepal-population/\">Nepal</a></td> <td style=\"font-weight: bold;\">29,651,054</td> <td>-0.15 %</td> <td>-43,560</td> <td>207</td> <td>143,350</td> <td>-401,282</td> <td>2.0</td> <td>25</td> <td>24 %</td> <td>0.36 %</td> </tr> <tr> <td>52</td> <td style=\"font-weight: bold; font-size:15px; text-align:left\"><a href=\"/world-population/cameroon-population/\">Cameroon</a></td> <td style=\"font-weight: bold;\">29,123,744</td> <td>2.65 %</td> <td>751,057</td> <td>62</td> <td>472,710</td> <td>-13,892</td> <td>4.3</td> <td>18</td> <td>59 %</td> <td>0.36 %</td> </tr> <tr> <td>53</td> <td style=\"font-weight: bold; font-size:15px; text-align:left\"><a href=\"/world-population/venezuela-population/\">Venezuela</a></td> <td style=\"font-weight: bold;\">28,405,543</td> <td>0.37 %</td> <td>104,689</td> <td>32</td> <td>882,050</td> <td>-105,297</td> <td>2.1</td> <td>29</td> <td>N.A.</td> <td>0.35 %</td> </tr> <tr> <td>54</td> <td style=\"font-weight: bold; font-size:15px; text-align:left\"><a href=\"/world-population/niger-population/\">Niger</a></td> <td style=\"font-weight: bold;\">27,032,412</td> <td>3.34 %</td> <td>872,545</td> <td>21</td> <td>1,266,700</td> <td>-4,041</td> <td>5.9</td> <td>15</td> <td>18 %</td> <td>0.33 %</td> </tr> <tr> <td>55</td> <td style=\"font-weight: bold; font-size:15px; text-align:left\"><a href=\"/world-population/australia-population/\">Australia</a></td> <td style=\"font-weight: bold;\">26,713,205</td> <td>0.99 %</td> <td>262,081</td> <td>3</td> <td>7,682,300</td> <td>138,510</td> <td>1.6</td> <td>38</td> <td>86 %</td> <td>0.33 %</td> </tr> <tr> <td>56</td> <td style=\"font-weight: bold; font-size:15px; text-align:left\"><a href=\"/world-population/north-korea-population/\">North Korea</a></td> <td style=\"font-weight: bold;\">26,498,823</td> <td>0.31 %</td> <td>80,619</td> <td>220</td> <td>120,410</td> <td>-2,473</td> <td>1.8</td> <td>36</td> <td>63 %</td> <td>0.32 %</td> </tr> <tr> <td>57</td> <td style=\"font-weight: bold; font-size:15px; text-align:left\"><a href=\"/world-population/syria-population/\">Syria</a></td> <td style=\"font-weight: bold;\">24,672,760</td> <td>4.57 %</td> <td>1,078,137</td> <td>134</td> <td>183,630</td> <td>546,494</td> <td>2.7</td> <td>23</td> <td>53 %</td> <td>0.30 %</td> </tr> <tr> <td>58</td> <td style=\"font-weight: bold; font-size:15px; text-align:left\"><a href=\"/world-population/mali-population/\">Mali</a></td> <td style=\"font-weight: bold;\">24,478,595</td> <td>2.98 %</td> <td>709,468</td> <td>20</td> <td>1,220,190</td> <td>-46,880</td> <td>5.5</td> <td>16</td> <td>44 %</td> <td>0.30 %</td> </tr> <tr> <td>59</td> <td style=\"font-weight: bold; font-size:15px; text-align:left\"><a href=\"/world-population/burkina-faso-population/\">Burkina Faso</a></td> <td style=\"font-weight: bold;\">23,548,781</td> <td>2.27 %</td> <td>523,005</td> <td>86</td> <td>273,600</td> <td>-25,807</td> <td>4.1</td> <td>17</td> <td>33 %</td> <td>0.29 %</td> </tr> <tr> <td>60</td> <td style=\"font-weight: bold; font-size:15px; text-align:left\"><a href=\"/world-population/taiwan-population/\">Taiwan</a></td> <td style=\"font-weight: bold;\">23,213,962</td> <td>-0.44 %</td> <td>-103,183</td> <td>656</td> <td>35,410</td> <td>-25,832</td> <td>0.9</td> <td>44</td> <td>83 %</td> <td>0.28 %</td> </tr> <tr> <td>61</td> <td style=\"font-weight: bold; font-size:15px; text-align:left\"><a href=\"/world-population/sri-lanka-population/\">Sri Lanka</a></td> <td style=\"font-weight: bold;\">23,103,565</td> <td>0.57 %</td> <td>131,948</td> <td>368</td> <td>62,710</td> <td>-27,245</td> <td>2.0</td> <td>33</td> <td>18 %</td> <td>0.28 %</td> </tr> <tr> <td>62</td> <td style=\"font-weight: bold; font-size:15px; text-align:left\"><a href=\"/world-population/malawi-population/\">Malawi</a></td> <td style=\"font-weight: bold;\">21,655,286</td> <td>2.61 %</td> <td>550,804</td> <td>230</td> <td>94,280</td> <td>-1,507</td> <td>3.6</td> <td>18</td> <td>19 %</td> <td>0.27 %</td> </tr> <tr> <td>63</td> <td style=\"font-weight: bold; font-size:15px; text-align:left\"><a href=\"/world-population/zambia-population/\">Zambia</a></td> <td style=\"font-weight: bold;\">21,314,956</td> <td>2.85 %</td> <td>590,991</td> <td>29</td> <td>743,390</td> <td>7,381</td> <td>4.0</td> <td>18</td> <td>46 %</td> <td>0.26 %</td> </tr> <tr> <td>64</td> <td style=\"font-weight: bold; font-size:15px; text-align:left\"><a href=\"/world-population/kazakhstan-population/\">Kazakhstan</a></td> <td style=\"font-weight: bold;\">20,592,571</td> <td>1.29 %</td> <td>262,467</td> <td>8</td> <td>2,699,700</td> <td>-7,368</td> <td>3.0</td> <td>30</td> <td>55 %</td> <td>0.25 %</td> </tr> <tr> <td>65</td> <td style=\"font-weight: bold; font-size:15px; text-align:left\"><a href=\"/world-population/chad-population/\">Chad</a></td> <td style=\"font-weight: bold;\">20,299,123</td> <td>5.07 %</td> <td>980,059</td> <td>16</td> <td>1,259,200</td> <td>204,040</td> <td>6.0</td> <td>16</td> <td>22 %</td> <td>0.25 %</td> </tr> <tr> <td>66</td> <td style=\"font-weight: bold; font-size:15px; text-align:left\"><a href=\"/world-population/chile-population/\">Chile</a></td> <td style=\"font-weight: bold;\">19,764,771</td> <td>0.54 %</td> <td>105,936</td> <td>27</td> <td>743,532</td> <td>58,316</td> <td>1.1</td> <td>36</td> <td>85 %</td> <td>0.24 %</td> </tr> <tr> <td>67</td> <td style=\"font-weight: bold; font-size:15px; text-align:left\"><a href=\"/world-population/romania-population/\">Romania</a></td> <td style=\"font-weight: bold;\">19,015,088</td> <td>-0.54 %</td> <td>-103,391</td> <td>83</td> <td>230,170</td> <td>-28,466</td> <td>1.7</td> <td>43</td> <td>55 %</td> <td>0.23 %</td> </tr> <tr> <td>68</td> <td style=\"font-weight: bold; font-size:15px; text-align:left\"><a href=\"/world-population/somalia-population/\">Somalia</a></td> <td style=\"font-weight: bold;\">19,009,151</td> <td>3.54 %</td> <td>650,536</td> <td>30</td> <td>627,340</td> <td>26,859</td> <td>6.0</td> <td>16</td> <td>46 %</td> <td>0.23 %</td> </tr> <tr> <td>69</td> <td style=\"font-weight: bold; font-size:15px; text-align:left\"><a href=\"/world-population/senegal-population/\">Senegal</a></td> <td style=\"font-weight: bold;\">18,501,984</td> <td>2.35 %</td> <td>424,411</td> <td>96</td> <td>192,530</td> <td>-10,307</td> <td>3.8</td> <td>19</td> <td>52 %</td> <td>0.23 %</td> </tr> <tr> <td>70</td> <td style=\"font-weight: bold; font-size:15px; text-align:left\"><a href=\"/world-population/guatemala-population/\">Guatemala</a></td> <td style=\"font-weight: bold;\">18,406,359</td> <td>1.55 %</td> <td>281,521</td> <td>172</td> <td>107,160</td> <td>-7,725</td> <td>2.3</td> <td>23</td> <td>56 %</td> <td>0.23 %</td> </tr> <tr> <td>71</td> <td style=\"font-weight: bold; font-size:15px; text-align:left\"><a href=\"/world-population/netherlands-population/\">Netherlands</a></td> <td style=\"font-weight: bold;\">18,228,742</td> <td>0.75 %</td> <td>136,218</td> <td>541</td> <td>33,720</td> <td>121,628</td> <td>1.4</td> <td>41</td> <td>89 %</td> <td>0.22 %</td> </tr> <tr> <td>72</td> <td style=\"font-weight: bold; font-size:15px; text-align:left\"><a href=\"/world-population/ecuador-population/\">Ecuador</a></td> <td style=\"font-weight: bold;\">18,135,478</td> <td>0.86 %</td> <td>155,395</td> <td>73</td> <td>248,360</td> <td>-19,704</td> <td>1.8</td> <td>29</td> <td>65 %</td> <td>0.22 %</td> </tr> <tr> <td>73</td> <td style=\"font-weight: bold; font-size:15px; text-align:left\"><a href=\"/world-population/cambodia-population/\">Cambodia</a></td> <td style=\"font-weight: bold;\">17,638,801</td> <td>1.23 %</td> <td>214,921</td> <td>100</td> <td>176,520</td> <td>-32,960</td> <td>2.5</td> <td>26</td> <td>26 %</td> <td>0.22 %</td> </tr> <tr> <td>74</td> <td style=\"font-weight: bold; font-size:15px; text-align:left\"><a href=\"/world-population/zimbabwe-population/\">Zimbabwe</a></td> <td style=\"font-weight: bold;\">16,634,373</td> <td>1.80 %</td> <td>293,551</td> <td>43</td> <td>386,850</td> <td>-60,528</td> <td>3.7</td> <td>18</td> <td>38 %</td> <td>0.20 %</td> </tr> <tr> <td>75</td> <td style=\"font-weight: bold; font-size:15px; text-align:left\"><a href=\"/world-population/guinea-population/\">Guinea</a></td> <td style=\"font-weight: bold;\">14,754,785</td> <td>2.42 %</td> <td>349,317</td> <td>60</td> <td>245,720</td> <td>-12,024</td> <td>4.1</td> <td>18</td> <td>40 %</td> <td>0.18 %</td> </tr> <tr> <td>76</td> <td style=\"font-weight: bold; font-size:15px; text-align:left\"><a href=\"/world-population/benin-population/\">Benin</a></td> <td style=\"font-weight: bold;\">14,462,724</td> <td>2.49 %</td> <td>351,690</td> <td>128</td> <td>112,760</td> <td>-7,725</td> <td>4.5</td> <td>18</td> <td>47 %</td> <td>0.18 %</td> </tr> <tr> <td>77</td> <td style=\"font-weight: bold; font-size:15px; text-align:left\"><a href=\"/world-population/rwanda-population/\">Rwanda</a></td> <td style=\"font-weight: bold;\">14,256,567</td> <td>2.16 %</td> <td>302,096</td> <td>578</td> <td>24,670</td> <td>-15,582</td> <td>3.6</td> <td>20</td> <td>18 %</td> <td>0.17 %</td> </tr> <tr> <td>78</td> <td style=\"font-weight: bold; font-size:15px; text-align:left\"><a href=\"/world-population/burundi-population/\">Burundi</a></td> <td style=\"font-weight: bold;\">14,047,786</td> <td>2.62 %</td> <td>358,336</td> <td>547</td> <td>25,680</td> <td>-27,074</td> <td>4.8</td> <td>16</td> <td>14 %</td> <td>0.17 %</td> </tr> <tr> <td>79</td> <td style=\"font-weight: bold; font-size:15px; text-align:left\"><a href=\"/world-population/bolivia-population/\">Bolivia</a></td> <td style=\"font-weight: bold;\">12,413,315</td> <td>1.38 %</td> <td>169,156</td> <td>11</td> <td>1,083,300</td> <td>-3,000</td> <td>2.5</td> <td>25</td> <td>70 %</td> <td>0.15 %</td> </tr> <tr> <td>80</td> <td style=\"font-weight: bold; font-size:15px; text-align:left\"><a href=\"/world-population/tunisia-population/\">Tunisia</a></td> <td style=\"font-weight: bold;\">12,277,109</td> <td>0.63 %</td> <td>76,678</td> <td>79</td> <td>155,360</td> <td>-15,221</td> <td>1.8</td> <td>33</td> <td>71 %</td> <td>0.15 %</td> </tr> <tr> <td>81</td> <td style=\"font-weight: bold; font-size:15px; text-align:left\"><a href=\"/world-population/south-sudan-population/\">South Sudan</a></td> <td style=\"font-weight: bold;\">11,943,408</td> <td>4.01 %</td> <td>460,034</td> <td>20</td> <td>610,952</td> <td>15,374</td> <td>3.8</td> <td>18</td> <td>27 %</td> <td>0.15 %</td> </tr> <tr> <td>82</td> <td style=\"font-weight: bold; font-size:15px; text-align:left\"><a href=\"/world-population/haiti-population/\">Haiti</a></td> <td style=\"font-weight: bold;\">11,772,557</td> <td>1.16 %</td> <td>135,159</td> <td>427</td> <td>27,560</td> <td>-31,747</td> <td>2.6</td> <td>24</td> <td>61 %</td> <td>0.14 %</td> </tr> <tr> <td>83</td> <td style=\"font-weight: bold; font-size:15px; text-align:left\"><a href=\"/world-population/belgium-population/\">Belgium</a></td> <td style=\"font-weight: bold;\">11,738,763</td> <td>0.22 %</td> <td>25,870</td> <td>388</td> <td>30,280</td> <td>36,243</td> <td>1.4</td> <td>42</td> <td>99 %</td> <td>0.14 %</td> </tr> <tr> <td>84</td> <td style=\"font-weight: bold; font-size:15px; text-align:left\"><a href=\"/world-population/jordan-population/\">Jordan</a></td> <td style=\"font-weight: bold;\">11,552,876</td> <td>0.99 %</td> <td>113,663</td> <td>130</td> <td>88,780</td> <td>-156,369</td> <td>2.6</td> <td>25</td> <td>84 %</td> <td>0.14 %</td> </tr> <tr> <td>85</td> <td style=\"font-weight: bold; font-size:15px; text-align:left\"><a href=\"/world-population/dominican-republic-population/\">Dominican Republic</a></td> <td style=\"font-weight: bold;\">11,427,557</td> <td>0.85 %</td> <td>96,292</td> <td>236</td> <td>48,320</td> <td>-34,806</td> <td>2.2</td> <td>28</td> <td>86 %</td> <td>0.14 %</td> </tr> <tr> <td>86</td> <td style=\"font-weight: bold; font-size:15px; text-align:left\"><a href=\"/world-population/united-arab-emirates-population/\">United Arab Emirates</a></td> <td style=\"font-weight: bold;\">11,027,129</td> <td>3.62 %</td> <td>385,048</td> <td>132</td> <td>83,600</td> <td>278,439</td> <td>1.2</td> <td>32</td> <td>82 %</td> <td>0.14 %</td> </tr> <tr> <td>87</td> <td style=\"font-weight: bold; font-size:15px; text-align:left\"><a href=\"/world-population/cuba-population/\">Cuba</a></td> <td style=\"font-weight: bold;\">10,979,783</td> <td>-0.36 %</td> <td>-40,148</td> <td>103</td> <td>106,440</td> <td>-22,356</td> <td>1.4</td> <td>42</td> <td>81 %</td> <td>0.13 %</td> </tr> <tr> <td>88</td> <td style=\"font-weight: bold; font-size:15px; text-align:left\"><a href=\"/world-population/honduras-population/\">Honduras</a></td> <td style=\"font-weight: bold;\">10,825,703</td> <td>1.70 %</td> <td>180,852</td> <td>97</td> <td>111,890</td> <td>-4,821</td> <td>2.5</td> <td>24</td> <td>58 %</td> <td>0.13 %</td> </tr> <tr> <td>89</td> <td style=\"font-weight: bold; font-size:15px; text-align:left\"><a href=\"/world-population/czech-republic-population/\">Czech Republic (Czechia)</a></td> <td style=\"font-weight: bold;\">10,735,859</td> <td>-0.68 %</td> <td>-73,857</td> <td>139</td> <td>77,240</td> <td>-86,169</td> <td>1.5</td> <td>43</td> <td>74 %</td> <td>0.13 %</td> </tr> <tr> <td>90</td> <td style=\"font-weight: bold; font-size:15px; text-align:left\"><a href=\"/world-population/sweden-population/\">Sweden</a></td> <td style=\"font-weight: bold;\">10,606,999</td> <td>0.53 %</td> <td>55,505</td> <td>26</td> <td>410,340</td> <td>50,115</td> <td>1.4</td> <td>40</td> <td>87 %</td> <td>0.13 %</td> </tr> <tr> <td>91</td> <td style=\"font-weight: bold; font-size:15px; text-align:left\"><a href=\"/world-population/tajikistan-population/\">Tajikistan</a></td> <td style=\"font-weight: bold;\">10,590,927</td> <td>1.94 %</td> <td>201,128</td> <td>76</td> <td>139,960</td> <td>-21,236</td> <td>3.0</td> <td>22</td> <td>27 %</td> <td>0.13 %</td> </tr> <tr> <td>92</td> <td style=\"font-weight: bold; font-size:15px; text-align:left\"><a href=\"/world-population/papua-new-guinea-population/\">Papua New Guinea</a></td> <td style=\"font-weight: bold;\">10,576,502</td> <td>1.80 %</td> <td>186,867</td> <td>23</td> <td>452,860</td> <td>-707</td> <td>3.1</td> <td>23</td> <td>12 %</td> <td>0.13 %</td> </tr> <tr> <td>93</td> <td style=\"font-weight: bold; font-size:15px; text-align:left\"><a href=\"/world-population/portugal-population/\">Portugal</a></td> <td style=\"font-weight: bold;\">10,425,292</td> <td>-0.05 %</td> <td>-5,446</td> <td>114</td> <td>91,590</td> <td>20,648</td> <td>1.5</td> <td>47</td> <td>66 %</td> <td>0.13 %</td> </tr> <tr> <td>94</td> <td style=\"font-weight: bold; font-size:15px; text-align:left\"><a href=\"/world-population/azerbaijan-population/\">Azerbaijan</a></td> <td style=\"font-weight: bold;\">10,336,577</td> <td>0.18 %</td> <td>18,370</td> <td>125</td> <td>82,658</td> <td>10,864</td> <td>1.7</td> <td>33</td> <td>58 %</td> <td>0.13 %</td> </tr> <tr> <td>95</td> <td style=\"font-weight: bold; font-size:15px; text-align:left\"><a href=\"/world-population/greece-population/\">Greece</a></td> <td style=\"font-weight: bold;\">10,047,817</td> <td>-1.90 %</td> <td>-195,091</td> <td>78</td> <td>128,900</td> <td>-122,772</td> <td>1.3</td> <td>46</td> <td>88 %</td> <td>0.12 %</td> </tr> <tr> <td>96</td> <td style=\"font-weight: bold; font-size:15px; text-align:left\"><a href=\"/world-population/hungary-population/\">Hungary</a></td> <td style=\"font-weight: bold;\">9,676,135</td> <td>-0.11 %</td> <td>-10,328</td> <td>107</td> <td>90,530</td> <td>16,223</td> <td>1.5</td> <td>44</td> <td>72 %</td> <td>0.12 %</td> </tr> <tr> <td>97</td> <td style=\"font-weight: bold; font-size:15px; text-align:left\"><a href=\"/world-population/togo-population/\">Togo</a></td> <td style=\"font-weight: bold;\">9,515,236</td> <td>2.27 %</td> <td>210,899</td> <td>175</td> <td>54,390</td> <td>-14,014</td> <td>4.1</td> <td>19</td> <td>44 %</td> <td>0.12 %</td> </tr> <tr> <td>98</td> <td style=\"font-weight: bold; font-size:15px; text-align:left\"><a href=\"/world-population/israel-population/\">Israel</a></td> <td style=\"font-weight: bold;\">9,387,021</td> <td>1.41 %</td> <td>130,707</td> <td>434</td> <td>21,640</td> <td>10,612</td> <td>2.8</td> <td>29</td> <td>91 %</td> <td>0.12 %</td> </tr> <tr> <td>99</td> <td style=\"font-weight: bold; font-size:15px; text-align:left\"><a href=\"/world-population/austria-population/\">Austria</a></td> <td style=\"font-weight: bold;\">9,120,813</td> <td>-0.11 %</td> <td>-9,616</td> <td>111</td> <td>82,409</td> <td>8,813</td> <td>1.3</td> <td>43</td> <td>58 %</td> <td>0.11 %</td> </tr> <tr> <td>100</td> <td style=\"font-weight: bold; font-size:15px; text-align:left\"><a href=\"/world-population/belarus-population/\">Belarus</a></td> <td style=\"font-weight: bold;\">9,056,696</td> <td>-0.65 %</td> <td>-58,984</td> <td>45</td> <td>202,910</td> <td>-3,119</td> <td>1.2</td> <td>41</td> <td>84 %</td> <td>0.11 %</td> </tr> <tr> <td>101</td> <td style=\"font-weight: bold; font-size:15px; text-align:left\"><a href=\"/world-population/switzerland-population/\">Switzerland</a></td> <td style=\"font-weight: bold;\">8,921,981</td> <td>0.58 %</td> <td>51,420</td> <td>226</td> <td>39,516</td> <td>40,099</td> <td>1.4</td> <td>43</td> <td>74 %</td> <td>0.11 %</td> </tr> <tr> <td>102</td> <td style=\"font-weight: bold; font-size:15px; text-align:left\"><a href=\"/world-population/sierra-leone-population/\">Sierra Leone</a></td> <td style=\"font-weight: bold;\">8,642,022</td> <td>2.15 %</td> <td>181,510</td> <td>120</td> <td>72,180</td> <td>-11,000</td> <td>3.7</td> <td>19</td> <td>45 %</td> <td>0.11 %</td> </tr> <tr> <td>103</td> <td style=\"font-weight: bold; font-size:15px; text-align:left\"><a href=\"/world-population/laos-population/\">Laos</a></td> <td style=\"font-weight: bold;\">7,769,819</td> <td>1.37 %</td> <td>104,826</td> <td>34</td> <td>230,800</td> <td>-10,284</td> <td>2.4</td> <td>25</td> <td>38 %</td> <td>0.10 %</td> </tr> <tr> <td>104</td> <td style=\"font-weight: bold; font-size:15px; text-align:left\"><a href=\"/world-population/turkmenistan-population/\">Turkmenistan</a></td> <td style=\"font-weight: bold;\">7,494,498</td> <td>1.77 %</td> <td>130,060</td> <td>16</td> <td>469,930</td> <td>14,646</td> <td>2.7</td> <td>27</td> <td>46 %</td> <td>0.09 %</td> </tr> <tr> <td>105</td> <td style=\"font-weight: bold; font-size:15px; text-align:left\"><a href=\"/world-population/china-hong-kong-sar-population/\">Hong Kong</a></td> <td style=\"font-weight: bold;\">7,414,909</td> <td>-0.37 %</td> <td>-27,825</td> <td>7,062</td> <td>1,050</td> <td>-19,272</td> <td>0.7</td> <td>47</td> <td>N.A.</td> <td>0.09 %</td> </tr> <tr> <td>106</td> <td style=\"font-weight: bold; font-size:15px; text-align:left\"><a href=\"/world-population/libya-population/\">Libya</a></td> <td style=\"font-weight: bold;\">7,381,023</td> <td>1.03 %</td> <td>75,364</td> <td>4</td> <td>1,759,540</td> <td>3,448</td> <td>2.3</td> <td>27</td> <td>77 %</td> <td>0.09 %</td> </tr> <tr> <td>107</td> <td style=\"font-weight: bold; font-size:15px; text-align:left\"><a href=\"/world-population/kyrgyzstan-population/\">Kyrgyzstan</a></td> <td style=\"font-weight: bold;\">7,186,009</td> <td>1.59 %</td> <td>112,493</td> <td>37</td> <td>191,800</td> <td>3,645</td> <td>2.8</td> <td>25</td> <td>35 %</td> <td>0.09 %</td> </tr> <tr> <td>108</td> <td style=\"font-weight: bold; font-size:15px; text-align:left\"><a href=\"/world-population/paraguay-population/\">Paraguay</a></td> <td style=\"font-weight: bold;\">6,929,153</td> <td>1.24 %</td> <td>85,007</td> <td>17</td> <td>397,300</td> <td>-12,451</td> <td>2.4</td> <td>27</td> <td>68 %</td> <td>0.08 %</td> </tr> <tr> <td>109</td> <td style=\"font-weight: bold; font-size:15px; text-align:left\"><a href=\"/world-population/nicaragua-population/\">Nicaragua</a></td> <td style=\"font-weight: bold;\">6,916,140</td> <td>1.36 %</td> <td>92,527</td> <td>57</td> <td>120,340</td> <td>-8,189</td> <td>2.2</td> <td>26</td> <td>58 %</td> <td>0.08 %</td> </tr> <tr> <td>110</td> <td style=\"font-weight: bold; font-size:15px; text-align:left\"><a href=\"/world-population/bulgaria-population/\">Bulgaria</a></td> <td style=\"font-weight: bold;\">6,757,689</td> <td>-0.56 %</td> <td>-38,114</td> <td>62</td> <td>108,560</td> <td>524</td> <td>1.7</td> <td>45</td> <td>77 %</td> <td>0.08 %</td> </tr> <tr> <td>111</td> <td style=\"font-weight: bold; font-size:15px; text-align:left\"><a href=\"/world-population/serbia-population/\">Serbia</a></td> <td style=\"font-weight: bold;\">6,736,216</td> <td>-0.55 %</td> <td>-36,985</td> <td>77</td> <td>87,460</td> <td>-8,132</td> <td>1.5</td> <td>44</td> <td>73 %</td> <td>0.08 %</td> </tr> <tr> <td>112</td> <td style=\"font-weight: bold; font-size:15px; text-align:left\"><a href=\"/world-population/el-salvador-population/\">El Salvador</a></td> <td style=\"font-weight: bold;\">6,338,193</td> <td>0.45 %</td> <td>28,569</td> <td>306</td> <td>20,720</td> <td>-23,102</td> <td>1.8</td> <td>27</td> <td>79 %</td> <td>0.08 %</td> </tr> <tr> <td>113</td> <td style=\"font-weight: bold; font-size:15px; text-align:left\"><a href=\"/world-population/congo-population/\">Congo</a></td> <td style=\"font-weight: bold;\">6,332,961</td> <td>2.43 %</td> <td>150,076</td> <td>19</td> <td>341,500</td> <td>-2,491</td> <td>4.1</td> <td>18</td> <td>69 %</td> <td>0.08 %</td> </tr> <tr> <td>114</td> <td style=\"font-weight: bold; font-size:15px; text-align:left\"><a href=\"/world-population/denmark-population/\">Denmark</a></td> <td style=\"font-weight: bold;\">5,977,412</td> <td>0.49 %</td> <td>29,276</td> <td>141</td> <td>42,430</td> <td>25,639</td> <td>1.5</td> <td>41</td> <td>87 %</td> <td>0.07 %</td> </tr> <tr> <td>115</td> <td style=\"font-weight: bold; font-size:15px; text-align:left\"><a href=\"/world-population/singapore-population/\">Singapore</a></td> <td style=\"font-weight: bold;\">5,832,387</td> <td>0.75 %</td> <td>43,297</td> <td>8,332</td> <td>700</td> <td>20,011</td> <td>1.0</td> <td>36</td> <td>N.A.</td> <td>0.07 %</td> </tr> <tr> <td>116</td> <td style=\"font-weight: bold; font-size:15px; text-align:left\"><a href=\"/world-population/lebanon-population/\">Lebanon</a></td> <td style=\"font-weight: bold;\">5,805,962</td> <td>0.56 %</td> <td>32,469</td> <td>568</td> <td>10,230</td> <td>-17,267</td> <td>2.2</td> <td>29</td> <td>88 %</td> <td>0.07 %</td> </tr> <tr> <td>117</td> <td style=\"font-weight: bold; font-size:15px; text-align:left\"><a href=\"/world-population/finland-population/\">Finland</a></td> <td style=\"font-weight: bold;\">5,617,310</td> <td>0.29 %</td> <td>16,125</td> <td>18</td> <td>303,890</td> <td>26,894</td> <td>1.3</td> <td>43</td> <td>86 %</td> <td>0.07 %</td> </tr> <tr> <td>118</td> <td style=\"font-weight: bold; font-size:15px; text-align:left\"><a href=\"/world-population/liberia-population/\">Liberia</a></td> <td style=\"font-weight: bold;\">5,612,817</td> <td>2.18 %</td> <td>119,786</td> <td>58</td> <td>96,320</td> <td>-7,779</td> <td>3.9</td> <td>19</td> <td>54 %</td> <td>0.07 %</td> </tr> <tr> <td>119</td> <td style=\"font-weight: bold; font-size:15px; text-align:left\"><a href=\"/world-population/norway-population/\">Norway</a></td> <td style=\"font-weight: bold;\">5,576,660</td> <td>1.04 %</td> <td>57,493</td> <td>15</td> <td>365,268</td> <td>44,356</td> <td>1.4</td> <td>40</td> <td>86 %</td> <td>0.07 %</td> </tr> <tr> <td>120</td> <td style=\"font-weight: bold; font-size:15px; text-align:left\"><a href=\"/world-population/slovakia-population/\">Slovakia</a></td> <td style=\"font-weight: bold;\">5,506,760</td> <td>-0.20 %</td> <td>-11,295</td> <td>115</td> <td>48,088</td> <td>-21,027</td> <td>1.6</td> <td>42</td> <td>54 %</td> <td>0.07 %</td> </tr> <tr> <td>121</td> <td style=\"font-weight: bold; font-size:15px; text-align:left\"><a href=\"/world-population/state-of-palestine-population/\">State of Palestine</a></td> <td style=\"font-weight: bold;\">5,495,443</td> <td>1.59 %</td> <td>86,241</td> <td>913</td> <td>6,020</td> <td>-23,145</td> <td>3.3</td> <td>20</td> <td>83 %</td> <td>0.07 %</td> </tr> <tr> <td>122</td> <td style=\"font-weight: bold; font-size:15px; text-align:left\"><a href=\"/world-population/central-african-republic-population/\">Central African Republic</a></td> <td style=\"font-weight: bold;\">5,330,690</td> <td>3.46 %</td> <td>178,269</td> <td>9</td> <td>622,980</td> <td>-15,357</td> <td>6.0</td> <td>14</td> <td>44 %</td> <td>0.07 %</td> </tr> <tr> <td>123</td> <td style=\"font-weight: bold; font-size:15px; text-align:left\"><a href=\"/world-population/oman-population/\">Oman</a></td> <td style=\"font-weight: bold;\">5,281,538</td> <td>4.60 %</td> <td>232,269</td> <td>17</td> <td>309,500</td> <td>154,219</td> <td>2.5</td> <td>29</td> <td>93 %</td> <td>0.06 %</td> </tr> <tr> <td>124</td> <td style=\"font-weight: bold; font-size:15px; text-align:left\"><a href=\"/world-population/ireland-population/\">Ireland</a></td> <td style=\"font-weight: bold;\">5,255,017</td> <td>1.12 %</td> <td>58,387</td> <td>76</td> <td>68,890</td> <td>39,059</td> <td>1.6</td> <td>39</td> <td>62 %</td> <td>0.06 %</td> </tr> <tr> <td>125</td> <td style=\"font-weight: bold; font-size:15px; text-align:left\"><a href=\"/world-population/new-zealand-population/\">New Zealand</a></td> <td style=\"font-weight: bold;\">5,213,944</td> <td>0.79 %</td> <td>41,108</td> <td>20</td> <td>263,310</td> <td>18,766</td> <td>1.7</td> <td>38</td> <td>83 %</td> <td>0.06 %</td> </tr> <tr> <td>126</td> <td style=\"font-weight: bold; font-size:15px; text-align:left\"><a href=\"/world-population/mauritania-population/\">Mauritania</a></td> <td style=\"font-weight: bold;\">5,169,395</td> <td>2.93 %</td> <td>146,954</td> <td>5</td> <td>1,030,700</td> <td>-2,185</td> <td>4.6</td> <td>17</td> <td>60 %</td> <td>0.06 %</td> </tr> <tr> <td>127</td> <td style=\"font-weight: bold; font-size:15px; text-align:left\"><a href=\"/world-population/costa-rica-population/\">Costa Rica</a></td> <td style=\"font-weight: bold;\">5,129,910</td> <td>0.48 %</td> <td>24,385</td> <td>100</td> <td>51,060</td> <td>967</td> <td>1.3</td> <td>35</td> <td>84 %</td> <td>0.06 %</td> </tr> <tr> <td>128</td> <td style=\"font-weight: bold; font-size:15px; text-align:left\"><a href=\"/world-population/kuwait-population/\">Kuwait</a></td> <td style=\"font-weight: bold;\">4,934,507</td> <td>1.98 %</td> <td>95,725</td> <td>277</td> <td>17,820</td> <td>61,624</td> <td>1.5</td> <td>35</td> <td>92 %</td> <td>0.06 %</td> </tr> <tr> <td>129</td> <td style=\"font-weight: bold; font-size:15px; text-align:left\"><a href=\"/world-population/panama-population/\">Panama</a></td> <td style=\"font-weight: bold;\">4,515,577</td> <td>1.27 %</td> <td>56,818</td> <td>61</td> <td>74,340</td> <td>6,706</td> <td>2.1</td> <td>30</td> <td>70 %</td> <td>0.06 %</td> </tr> <tr> <td>130</td> <td style=\"font-weight: bold; font-size:15px; text-align:left\"><a href=\"/world-population/croatia-population/\">Croatia</a></td> <td style=\"font-weight: bold;\">3,875,325</td> <td>-0.53 %</td> <td>-20,698</td> <td>69</td> <td>55,960</td> <td>-5,186</td> <td>1.5</td> <td>45</td> <td>61 %</td> <td>0.05 %</td> </tr> <tr> <td>131</td> <td style=\"font-weight: bold; font-size:15px; text-align:left\"><a href=\"/world-population/georgia-population/\">Georgia</a></td> <td style=\"font-weight: bold;\">3,807,670</td> <td>0.00 %</td> <td>178</td> <td>55</td> <td>69,490</td> <td>1,745</td> <td>1.8</td> <td>37</td> <td>62 %</td> <td>0.05 %</td> </tr> <tr> <td>132</td> <td style=\"font-weight: bold; font-size:15px; text-align:left\"><a href=\"/world-population/eritrea-population/\">Eritrea</a></td> <td style=\"font-weight: bold;\">3,535,603</td> <td>1.88 %</td> <td>65,213</td> <td>35</td> <td>101,000</td> <td>-12,696</td> <td>3.7</td> <td>19</td> <td>74 %</td> <td>0.04 %</td> </tr> <tr> <td>133</td> <td style=\"font-weight: bold; font-size:15px; text-align:left\"><a href=\"/world-population/mongolia-population/\">Mongolia</a></td> <td style=\"font-weight: bold;\">3,475,540</td> <td>1.27 %</td> <td>43,608</td> <td>2</td> <td>1,553,560</td> <td>83</td> <td>2.6</td> <td>27</td> <td>67 %</td> <td>0.04 %</td> </tr> <tr> <td>134</td> <td style=\"font-weight: bold; font-size:15px; text-align:left\"><a href=\"/world-population/uruguay-population/\">Uruguay</a></td> <td style=\"font-weight: bold;\">3,386,588</td> <td>-0.04 %</td> <td>-1,493</td> <td>19</td> <td>175,020</td> <td>-1,348</td> <td>1.4</td> <td>36</td> <td>N.A.</td> <td>0.04 %</td> </tr> <tr> <td>135</td> <td style=\"font-weight: bold; font-size:15px; text-align:left\"><a href=\"/world-population/puerto-rico-population/\">Puerto Rico</a></td> <td style=\"font-weight: bold;\">3,242,204</td> <td>0.01 %</td> <td>181</td> <td>366</td> <td>8,870</td> <td>11,561</td> <td>0.9</td> <td>45</td> <td>N.A.</td> <td>0.04 %</td> </tr> <tr> <td>136</td> <td style=\"font-weight: bold; font-size:15px; text-align:left\"><a href=\"/world-population/bosnia-and-herzegovina-population/\">Bosnia and Herzegovina</a></td> <td style=\"font-weight: bold;\">3,164,253</td> <td>-0.65 %</td> <td>-20,820</td> <td>62</td> <td>51,000</td> <td>-4,497</td> <td>1.5</td> <td>45</td> <td>56 %</td> <td>0.04 %</td> </tr> <tr> <td>137</td> <td style=\"font-weight: bold; font-size:15px; text-align:left\"><a href=\"/world-population/qatar-population/\">Qatar</a></td> <td style=\"font-weight: bold;\">3,048,423</td> <td>2.33 %</td> <td>69,341</td> <td>263</td> <td>11,610</td> <td>46,105</td> <td>1.7</td> <td>34</td> <td>97 %</td> <td>0.04 %</td> </tr> <tr> <td>138</td> <td style=\"font-weight: bold; font-size:15px; text-align:left\"><a href=\"/world-population/moldova-population/\">Moldova</a></td> <td style=\"font-weight: bold;\">3,034,961</td> <td>-1.05 %</td> <td>-32,109</td> <td>92</td> <td>32,850</td> <td>-27,088</td> <td>1.7</td> <td>38</td> <td>57 %</td> <td>0.04 %</td> </tr> <tr> <td>139</td> <td style=\"font-weight: bold; font-size:15px; text-align:left\"><a href=\"/world-population/namibia-population/\">Namibia</a></td> <td style=\"font-weight: bold;\">3,030,131</td> <td>2.26 %</td> <td>67,036</td> <td>4</td> <td>823,290</td> <td>4,211</td> <td>3.2</td> <td>21</td> <td>54 %</td> <td>0.04 %</td> </tr> <tr> <td>140</td> <td style=\"font-weight: bold; font-size:15px; text-align:left\"><a href=\"/world-population/armenia-population/\">Armenia</a></td> <td style=\"font-weight: bold;\">2,973,840</td> <td>1.03 %</td> <td>30,447</td> <td>104</td> <td>28,470</td> <td>-29,966</td> <td>1.7</td> <td>36</td> <td>63 %</td> <td>0.04 %</td> </tr> <tr> <td>141</td> <td style=\"font-weight: bold; font-size:15px; text-align:left\"><a href=\"/world-population/lithuania-population/\">Lithuania</a></td> <td style=\"font-weight: bold;\">2,859,110</td> <td>0.18 %</td> <td>5,011</td> <td>46</td> <td>62,674</td> <td>2,617</td> <td>1.2</td> <td>42</td> <td>68 %</td> <td>0.04 %</td> </tr> <tr> <td>142</td> <td style=\"font-weight: bold; font-size:15px; text-align:left\"><a href=\"/world-population/jamaica-population/\">Jamaica</a></td> <td style=\"font-weight: bold;\">2,839,175</td> <td>-0.02 %</td> <td>-611</td> <td>262</td> <td>10,830</td> <td>-10,506</td> <td>1.4</td> <td>32</td> <td>60 %</td> <td>0.03 %</td> </tr> <tr> <td>143</td> <td style=\"font-weight: bold; font-size:15px; text-align:left\"><a href=\"/world-population/albania-population/\">Albania</a></td> <td style=\"font-weight: bold;\">2,791,765</td> <td>-0.71 %</td> <td>-19,890</td> <td>102</td> <td>27,400</td> <td>-24,472</td> <td>1.3</td> <td>37</td> <td>69 %</td> <td>0.03 %</td> </tr> <tr> <td>144</td> <td style=\"font-weight: bold; font-size:15px; text-align:left\"><a href=\"/world-population/gambia-population/\">Gambia</a></td> <td style=\"font-weight: bold;\">2,759,988</td> <td>2.30 %</td> <td>62,143</td> <td>273</td> <td>10,120</td> <td>-2,989</td> <td>3.9</td> <td>18</td> <td>60 %</td> <td>0.03 %</td> </tr> <tr> <td>145</td> <td style=\"font-weight: bold; font-size:15px; text-align:left\"><a href=\"/world-population/gabon-population/\">Gabon</a></td> <td style=\"font-weight: bold;\">2,538,952</td> <td>2.18 %</td> <td>54,163</td> <td>10</td> <td>257,670</td> <td>1,105</td> <td>3.6</td> <td>22</td> <td>84 %</td> <td>0.03 %</td> </tr> <tr> <td>146</td> <td style=\"font-weight: bold; font-size:15px; text-align:left\"><a href=\"/world-population/botswana-population/\">Botswana</a></td> <td style=\"font-weight: bold;\">2,521,139</td> <td>1.65 %</td> <td>40,895</td> <td>4</td> <td>566,730</td> <td>-5,778</td> <td>2.7</td> <td>23</td> <td>75 %</td> <td>0.03 %</td> </tr> <tr> <td>147</td> <td style=\"font-weight: bold; font-size:15px; text-align:left\"><a href=\"/world-population/lesotho-population/\">Lesotho</a></td> <td style=\"font-weight: bold;\">2,337,423</td> <td>1.12 %</td> <td>25,951</td> <td>77</td> <td>30,360</td> <td>-5,107</td> <td>2.7</td> <td>22</td> <td>32 %</td> <td>0.03 %</td> </tr> <tr> <td>148</td> <td style=\"font-weight: bold; font-size:15px; text-align:left\"><a href=\"/world-population/guinea-bissau-population/\">Guinea-Bissau</a></td> <td style=\"font-weight: bold;\">2,201,352</td> <td>2.23 %</td> <td>48,013</td> <td>78</td> <td>28,120</td> <td>-1,712</td> <td>3.8</td> <td>19</td> <td>46 %</td> <td>0.03 %</td> </tr> <tr> <td>149</td> <td style=\"font-weight: bold; font-size:15px; text-align:left\"><a href=\"/world-population/slovenia-population/\">Slovenia</a></td> <td style=\"font-weight: bold;\">2,118,697</td> <td>0.01 %</td> <td>301</td> <td>105</td> <td>20,140</td> <td>3,319</td> <td>1.6</td> <td>44</td> <td>55 %</td> <td>0.03 %</td> </tr> <tr> <td>150</td> <td style=\"font-weight: bold; font-size:15px; text-align:left\"><a href=\"/world-population/equatorial-guinea-population/\">Equatorial Guinea</a></td> <td style=\"font-weight: bold;\">1,892,516</td> <td>2.43 %</td> <td>44,967</td> <td>67</td> <td>28,050</td> <td>3,891</td> <td>4.1</td> <td>21</td> <td>63 %</td> <td>0.02 %</td> </tr> <tr> <td>151</td> <td style=\"font-weight: bold; font-size:15px; text-align:left\"><a href=\"/world-population/latvia-population/\">Latvia</a></td> <td style=\"font-weight: bold;\">1,871,871</td> <td>-0.56 %</td> <td>-10,525</td> <td>30</td> <td>62,200</td> <td>-2,225</td> <td>1.3</td> <td>43</td> <td>67 %</td> <td>0.02 %</td> </tr> <tr> <td>152</td> <td style=\"font-weight: bold; font-size:15px; text-align:left\"><a href=\"/world-population/macedonia-population/\">North Macedonia</a></td> <td style=\"font-weight: bold;\">1,823,009</td> <td>-0.48 %</td> <td>-8,793</td> <td>72</td> <td>25,220</td> <td>-5,728</td> <td>1.5</td> <td>41</td> <td>69 %</td> <td>0.02 %</td> </tr> <tr> <td>153</td> <td style=\"font-weight: bold; font-size:15px; text-align:left\"><a href=\"/world-population/bahrain-population/\">Bahrain</a></td> <td style=\"font-weight: bold;\">1,607,049</td> <td>2.38 %</td> <td>37,383</td> <td>2,115</td> <td>760</td> <td>22,699</td> <td>1.8</td> <td>33</td> <td>N.A.</td> <td>0.02 %</td> </tr> <tr> <td>154</td> <td style=\"font-weight: bold; font-size:15px; text-align:left\"><a href=\"/world-population/trinidad-and-tobago-population/\">Trinidad and Tobago</a></td> <td style=\"font-weight: bold;\">1,507,782</td> <td>0.32 %</td> <td>4,850</td> <td>294</td> <td>5,130</td> <td>1,334</td> <td>1.5</td> <td>37</td> <td>49 %</td> <td>0.02 %</td> </tr> <tr> <td>155</td> <td style=\"font-weight: bold; font-size:15px; text-align:left\"><a href=\"/world-population/timor-leste-population/\">Timor-Leste</a></td> <td style=\"font-weight: bold;\">1,400,638</td> <td>1.18 %</td> <td>16,352</td> <td>94</td> <td>14,870</td> <td>-2,552</td> <td>2.6</td> <td>21</td> <td>35 %</td> <td>0.02 %</td> </tr> <tr> <td>156</td> <td style=\"font-weight: bold; font-size:15px; text-align:left\"><a href=\"/world-population/estonia-population/\">Estonia</a></td> <td style=\"font-weight: bold;\">1,360,546</td> <td>-0.49 %</td> <td>-6,650</td> <td>32</td> <td>42,390</td> <td>-7,742</td> <td>1.4</td> <td>42</td> <td>66 %</td> <td>0.02 %</td> </tr> <tr> <td>157</td> <td style=\"font-weight: bold; font-size:15px; text-align:left\"><a href=\"/world-population/cyprus-population/\">Cyprus</a></td> <td style=\"font-weight: bold;\">1,358,282</td> <td>0.99 %</td> <td>13,306</td> <td>147</td> <td>9,240</td> <td>8,138</td> <td>1.4</td> <td>38</td> <td>61 %</td> <td>0.02 %</td> </tr> <tr> <td>158</td> <td style=\"font-weight: bold; font-size:15px; text-align:left\"><a href=\"/world-population/mauritius-population/\">Mauritius</a></td> <td style=\"font-weight: bold;\">1,271,169</td> <td>-0.19 %</td> <td>-2,419</td> <td>626</td> <td>2,030</td> <td>-2,787</td> <td>1.2</td> <td>37</td> <td>41 %</td> <td>0.02 %</td> </tr> <tr> <td>159</td> <td style=\"font-weight: bold; font-size:15px; text-align:left\"><a href=\"/world-population/swaziland-population/\">Eswatini</a></td> <td style=\"font-weight: bold;\">1,242,822</td> <td>1.00 %</td> <td>12,316</td> <td>72</td> <td>17,200</td> <td>-6,754</td> <td>2.7</td> <td>22</td> <td>31 %</td> <td>0.02 %</td> </tr> <tr> <td>160</td> <td style=\"font-weight: bold; font-size:15px; text-align:left\"><a href=\"/world-population/djibouti-population/\">Djibouti</a></td> <td style=\"font-weight: bold;\">1,168,722</td> <td>1.37 %</td> <td>15,778</td> <td>50</td> <td>23,180</td> <td>-11</td> <td>2.6</td> <td>25</td> <td>71 %</td> <td>0.01 %</td> </tr> <tr> <td>161</td> <td style=\"font-weight: bold; font-size:15px; text-align:left\"><a href=\"/world-population/fiji-population/\">Fiji</a></td> <td style=\"font-weight: bold;\">928,784</td> <td>0.50 %</td> <td>4,639</td> <td>51</td> <td>18,270</td> <td>-3,278</td> <td>2.3</td> <td>28</td> <td>60 %</td> <td>0.01 %</td> </tr> <tr> <td>162</td> <td style=\"font-weight: bold; font-size:15px; text-align:left\"><a href=\"/world-population/reunion-population/\">Réunion</a></td> <td style=\"font-weight: bold;\">878,591</td> <td>0.42 %</td> <td>3,708</td> <td>351</td> <td>2,500</td> <td>-2,931</td> <td>2.2</td> <td>38</td> <td>N.A.</td> <td>0.01 %</td> </tr> <tr> <td>163</td> <td style=\"font-weight: bold; font-size:15px; text-align:left\"><a href=\"/world-population/comoros-population/\">Comoros</a></td> <td style=\"font-weight: bold;\">866,628</td> <td>1.91 %</td> <td>16,241</td> <td>466</td> <td>1,861</td> <td>-2,051</td> <td>3.8</td> <td>21</td> <td>33 %</td> <td>0.01 %</td> </tr> <tr> <td>164</td> <td style=\"font-weight: bold; font-size:15px; text-align:left\"><a href=\"/world-population/guyana-population/\">Guyana</a></td> <td style=\"font-weight: bold;\">831,087</td> <td>0.57 %</td> <td>4,734</td> <td>4</td> <td>196,850</td> <td>-5,407</td> <td>2.4</td> <td>26</td> <td>27 %</td> <td>0.01 %</td> </tr> <tr> <td>165</td> <td style=\"font-weight: bold; font-size:15px; text-align:left\"><a href=\"/world-population/solomon-islands-population/\">Solomon Islands</a></td> <td style=\"font-weight: bold;\">819,198</td> <td>2.40 %</td> <td>19,193</td> <td>29</td> <td>27,990</td> <td>1,610</td> <td>3.5</td> <td>20</td> <td>23 %</td> <td>0.01 %</td> </tr> <tr> <td>166</td> <td style=\"font-weight: bold; font-size:15px; text-align:left\"><a href=\"/world-population/bhutan-population/\">Bhutan</a></td> <td style=\"font-weight: bold;\">791,524</td> <td>0.65 %</td> <td>5,139</td> <td>21</td> <td>38,117</td> <td>-277</td> <td>1.4</td> <td>30</td> <td>49 %</td> <td>0.01 %</td> </tr> <tr> <td>167</td> <td style=\"font-weight: bold; font-size:15px; text-align:left\"><a href=\"/world-population/china-macao-sar-population/\">Macao</a></td> <td style=\"font-weight: bold;\">720,262</td> <td>0.89 %</td> <td>6,350</td> <td>24,009</td> <td>30</td> <td>1,620</td> <td>0.7</td> <td>39</td> <td>96 %</td> <td>0.01 %</td> </tr> <tr> <td>168</td> <td style=\"font-weight: bold; font-size:15px; text-align:left\"><a href=\"/world-population/luxembourg-population/\">Luxembourg</a></td> <td style=\"font-weight: bold;\">673,036</td> <td>1.19 %</td> <td>7,938</td> <td>260</td> <td>2,590</td> <td>5,677</td> <td>1.4</td> <td>39</td> <td>87 %</td> <td>0.01 %</td> </tr> <tr> <td>169</td> <td style=\"font-weight: bold; font-size:15px; text-align:left\"><a href=\"/world-population/montenegro-population/\">Montenegro</a></td> <td style=\"font-weight: bold;\">638,479</td> <td>0.78 %</td> <td>4,927</td> <td>47</td> <td>13,450</td> <td>-1,686</td> <td>1.8</td> <td>40</td> <td>68 %</td> <td>0.01 %</td> </tr> <tr> <td>170</td> <td style=\"font-weight: bold; font-size:15px; text-align:left\"><a href=\"/world-population/suriname-population/\">Suriname</a></td> <td style=\"font-weight: bold;\">634,431</td> <td>0.88 %</td> <td>5,545</td> <td>4</td> <td>156,000</td> <td>-1,166</td> <td>2.2</td> <td>28</td> <td>62 %</td> <td>0.01 %</td> </tr> <tr> <td>171</td> <td style=\"font-weight: bold; font-size:15px; text-align:left\"><a href=\"/world-population/western-sahara-population/\">Western Sahara</a></td> <td style=\"font-weight: bold;\">590,506</td> <td>1.86 %</td> <td>10,777</td> <td>2</td> <td>266,000</td> <td>5,358</td> <td>2.2</td> <td>32</td> <td>97 %</td> <td>0.01 %</td> </tr> <tr> <td>172</td> <td style=\"font-weight: bold; font-size:15px; text-align:left\"><a href=\"/world-population/malta-population/\">Malta</a></td> <td style=\"font-weight: bold;\">539,607</td> <td>1.25 %</td> <td>6,651</td> <td>1,686</td> <td>320</td> <td>6,323</td> <td>1.1</td> <td>41</td> <td>77 %</td> <td>0.01 %</td> </tr> <tr> <td>173</td> <td style=\"font-weight: bold; font-size:15px; text-align:left\"><a href=\"/world-population/maldives-population/\">Maldives</a></td> <td style=\"font-weight: bold;\">527,799</td> <td>0.34 %</td> <td>1,805</td> <td>1,759</td> <td>300</td> <td>-2,421</td> <td>1.6</td> <td>32</td> <td>39 %</td> <td>0.01 %</td> </tr> <tr> <td>174</td> <td style=\"font-weight: bold; font-size:15px; text-align:left\"><a href=\"/world-population/micronesia-population/\">Micronesia</a></td> <td style=\"font-weight: bold;\">526,923</td> <td>0.32 %</td> <td>1,683</td> <td>753</td> <td>700</td> <td>-5,076</td> <td>2.8</td> <td>26</td> <td>75 %</td> <td>0.01 %</td> </tr> <tr> <td>175</td> <td style=\"font-weight: bold; font-size:15px; text-align:left\"><a href=\"/world-population/cabo-verde-population/\">Cabo Verde</a></td> <td style=\"font-weight: bold;\">524,877</td> <td>0.49 %</td> <td>2,546</td> <td>130</td> <td>4,030</td> <td>-1,209</td> <td>1.5</td> <td>28</td> <td>78 %</td> <td>0.01 %</td> </tr> <tr> <td>176</td> <td style=\"font-weight: bold; font-size:15px; text-align:left\"><a href=\"/world-population/brunei-darussalam-population/\">Brunei </a></td> <td style=\"font-weight: bold;\">462,721</td> <td>0.82 %</td> <td>3,772</td> <td>88</td> <td>5,270</td> <td>0</td> <td>1.7</td> <td>32</td> <td>80 %</td> <td>0.01 %</td> </tr> <tr> <td>177</td> <td style=\"font-weight: bold; font-size:15px; text-align:left\"><a href=\"/world-population/belize-population/\">Belize</a></td> <td style=\"font-weight: bold;\">417,072</td> <td>1.45 %</td> <td>5,966</td> <td>18</td> <td>22,810</td> <td>490</td> <td>2.0</td> <td>26</td> <td>48 %</td> <td>0.01 %</td> </tr> <tr> <td>178</td> <td style=\"font-weight: bold; font-size:15px; text-align:left\"><a href=\"/world-population/bahamas-population/\">Bahamas</a></td> <td style=\"font-weight: bold;\">401,283</td> <td>0.46 %</td> <td>1,843</td> <td>40</td> <td>10,010</td> <td>1,018</td> <td>1.4</td> <td>35</td> <td>88 %</td> <td>0.00 %</td> </tr> <tr> <td>179</td> <td style=\"font-weight: bold; font-size:15px; text-align:left\"><a href=\"/world-population/iceland-population/\">Iceland</a></td> <td style=\"font-weight: bold;\">393,396</td> <td>1.51 %</td> <td>5,838</td> <td>4</td> <td>100,250</td> <td>3,543</td> <td>1.5</td> <td>36</td> <td>84 %</td> <td>0.00 %</td> </tr> <tr> <td>180</td> <td style=\"font-weight: bold; font-size:15px; text-align:left\"><a href=\"/world-population/guadeloupe-population/\">Guadeloupe</a></td> <td style=\"font-weight: bold;\">375,106</td> <td>-0.37 %</td> <td>-1,411</td> <td>222</td> <td>1,690</td> <td>-1,765</td> <td>2.1</td> <td>47</td> <td>N.A.</td> <td>0.00 %</td> </tr> <tr> <td>181</td> <td style=\"font-weight: bold; font-size:15px; text-align:left\"><a href=\"/world-population/martinique-population/\">Martinique</a></td> <td style=\"font-weight: bold;\">343,195</td> <td>-0.81 %</td> <td>-2,807</td> <td>324</td> <td>1,060</td> <td>-2,744</td> <td>2.0</td> <td>49</td> <td>N.A.</td> <td>0.00 %</td> </tr> <tr> <td>182</td> <td style=\"font-weight: bold; font-size:15px; text-align:left\"><a href=\"/world-population/vanuatu-population/\">Vanuatu</a></td> <td style=\"font-weight: bold;\">327,777</td> <td>2.30 %</td> <td>7,368</td> <td>27</td> <td>12,190</td> <td>-43</td> <td>3.6</td> <td>20</td> <td>25 %</td> <td>0.00 %</td> </tr> <tr> <td>183</td> <td style=\"font-weight: bold; font-size:15px; text-align:left\"><a href=\"/world-population/mayotte-population/\">Mayotte</a></td> <td style=\"font-weight: bold;\">326,505</td> <td>3.32 %</td> <td>10,490</td> <td>871</td> <td>375</td> <td>108</td> <td>4.6</td> <td>17</td> <td>42 %</td> <td>0.00 %</td> </tr> <tr> <td>184</td> <td style=\"font-weight: bold; font-size:15px; text-align:left\"><a href=\"/world-population/french-guiana-population/\">French Guiana</a></td> <td style=\"font-weight: bold;\">308,522</td> <td>1.69 %</td> <td>5,120</td> <td>4</td> <td>82,200</td> <td>-1,018</td> <td>3.3</td> <td>25</td> <td>94 %</td> <td>0.00 %</td> </tr> <tr> <td>185</td> <td style=\"font-weight: bold; font-size:15px; text-align:left\"><a href=\"/world-population/new-caledonia-population/\">New Caledonia</a></td> <td style=\"font-weight: bold;\">292,639</td> <td>0.96 %</td> <td>2,769</td> <td>16</td> <td>18,280</td> <td>455</td> <td>2.0</td> <td>34</td> <td>75 %</td> <td>0.00 %</td> </tr> <tr> <td>186</td> <td style=\"font-weight: bold; font-size:15px; text-align:left\"><a href=\"/world-population/barbados-population/\">Barbados</a></td> <td style=\"font-weight: bold;\">282,467</td> <td>0.05 %</td> <td>131</td> <td>657</td> <td>430</td> <td>-70</td> <td>1.7</td> <td>39</td> <td>32 %</td> <td>0.00 %</td> </tr> <tr> <td>187</td> <td style=\"font-weight: bold; font-size:15px; text-align:left\"><a href=\"/world-population/french-polynesia-population/\">French Polynesia</a></td> <td style=\"font-weight: bold;\">281,807</td> <td>0.25 %</td> <td>689</td> <td>77</td> <td>3,660</td> <td>-1,261</td> <td>1.5</td> <td>35</td> <td>66 %</td> <td>0.00 %</td> </tr> <tr> <td>188</td> <td style=\"font-weight: bold; font-size:15px; text-align:left\"><a href=\"/world-population/sao-tome-and-principe-population/\">Sao Tome &amp; Principe</a></td> <td style=\"font-weight: bold;\">235,536</td> <td>2.02 %</td> <td>4,665</td> <td>245</td> <td>960</td> <td>-604</td> <td>3.6</td> <td>19</td> <td>78 %</td> <td>0.00 %</td> </tr> <tr> <td>189</td> <td style=\"font-weight: bold; font-size:15px; text-align:left\"><a href=\"/world-population/samoa-population/\">Samoa</a></td> <td style=\"font-weight: bold;\">218,019</td> <td>0.63 %</td> <td>1,356</td> <td>77</td> <td>2,830</td> <td>-2,754</td> <td>3.8</td> <td>20</td> <td>16 %</td> <td>0.00 %</td> </tr> <tr> <td>190</td> <td style=\"font-weight: bold; font-size:15px; text-align:left\"><a href=\"/world-population/curacao-population/\">Curaçao</a></td> <td style=\"font-weight: bold;\">185,482</td> <td>0.03 %</td> <td>55</td> <td>418</td> <td>444</td> <td>513</td> <td>1.1</td> <td>38</td> <td>80 %</td> <td>0.00 %</td> </tr> <tr> <td>191</td> <td style=\"font-weight: bold; font-size:15px; text-align:left\"><a href=\"/world-population/saint-lucia-population/\">Saint Lucia</a></td> <td style=\"font-weight: bold;\">179,744</td> <td>0.26 %</td> <td>459</td> <td>295</td> <td>610</td> <td>-7</td> <td>1.4</td> <td>34</td> <td>20 %</td> <td>0.00 %</td> </tr> <tr> <td>192</td> <td style=\"font-weight: bold; font-size:15px; text-align:left\"><a href=\"/world-population/guam-population/\">Guam</a></td> <td style=\"font-weight: bold;\">167,777</td> <td>0.76 %</td> <td>1,271</td> <td>311</td> <td>540</td> <td>-504</td> <td>2.7</td> <td>31</td> <td>99 %</td> <td>0.00 %</td> </tr> <tr> <td>193</td> <td style=\"font-weight: bold; font-size:15px; text-align:left\"><a href=\"/world-population/kiribati-population/\">Kiribati</a></td> <td style=\"font-weight: bold;\">134,518</td> <td>1.50 %</td> <td>1,988</td> <td>166</td> <td>810</td> <td>-471</td> <td>3.1</td> <td>23</td> <td>57 %</td> <td>0.00 %</td> </tr> <tr> <td>194</td> <td style=\"font-weight: bold; font-size:15px; text-align:left\"><a href=\"/world-population/seychelles-population/\">Seychelles</a></td> <td style=\"font-weight: bold;\">130,418</td> <td>1.93 %</td> <td>2,467</td> <td>284</td> <td>460</td> <td>1,747</td> <td>2.1</td> <td>34</td> <td>44 %</td> <td>0.00 %</td> </tr> <tr> <td>195</td> <td style=\"font-weight: bold; font-size:15px; text-align:left\"><a href=\"/world-population/grenada-population/\">Grenada</a></td> <td style=\"font-weight: bold;\">117,207</td> <td>0.11 %</td> <td>126</td> <td>345</td> <td>340</td> <td>-192</td> <td>1.5</td> <td>34</td> <td>35 %</td> <td>0.00 %</td> </tr> <tr> <td>196</td> <td style=\"font-weight: bold; font-size:15px; text-align:left\"><a href=\"/world-population/aruba-population/\">Aruba</a></td> <td style=\"font-weight: bold;\">108,066</td> <td>0.12 %</td> <td>127</td> <td>600</td> <td>180</td> <td>141</td> <td>1.6</td> <td>41</td> <td>44 %</td> <td>0.00 %</td> </tr> <tr> <td>197</td> <td style=\"font-weight: bold; font-size:15px; text-align:left\"><a href=\"/world-population/tonga-population/\">Tonga</a></td> <td style=\"font-weight: bold;\">104,175</td> <td>-0.40 %</td> <td>-422</td> <td>145</td> <td>720</td> <td>-2,149</td> <td>3.1</td> <td>21</td> <td>26 %</td> <td>0.00 %</td> </tr> <tr> <td>198</td> <td style=\"font-weight: bold; font-size:15px; text-align:left\"><a href=\"/world-population/saint-vincent-and-the-grenadines-population/\">St. Vincent &amp; Grenadines</a></td> <td style=\"font-weight: bold;\">100,616</td> <td>-0.70 %</td> <td>-707</td> <td>258</td> <td>390</td> <td>-737</td> <td>1.8</td> <td>34</td> <td>61 %</td> <td>0.00 %</td> </tr> <tr> <td>199</td> <td style=\"font-weight: bold; font-size:15px; text-align:left\"><a href=\"/world-population/antigua-and-barbuda-population/\">Antigua and Barbuda</a></td> <td style=\"font-weight: bold;\">93,772</td> <td>0.49 %</td> <td>456</td> <td>213</td> <td>440</td> <td>9</td> <td>1.6</td> <td>36</td> <td>28 %</td> <td>0.00 %</td> </tr> <tr> <td>200</td> <td style=\"font-weight: bold; font-size:15px; text-align:left\"><a href=\"/world-population/united-states-virgin-islands-population/\">U.S. Virgin Islands</a></td> <td style=\"font-weight: bold;\">84,905</td> <td>-0.93 %</td> <td>-796</td> <td>243</td> <td>350</td> <td>-420</td> <td>2.1</td> <td>45</td> <td>N.A.</td> <td>0.00 %</td> </tr> <tr> <td>201</td> <td style=\"font-weight: bold; font-size:15px; text-align:left\"><a href=\"/world-population/isle-of-man-population/\">Isle of Man</a></td> <td style=\"font-weight: bold;\">84,160</td> <td>-0.01 %</td> <td>-5</td> <td>148</td> <td>570</td> <td>177</td> <td>1.5</td> <td>46</td> <td>56 %</td> <td>0.00 %</td> </tr> <tr> <td>202</td> <td style=\"font-weight: bold; font-size:15px; text-align:left\"><a href=\"/world-population/andorra-population/\">Andorra</a></td> <td style=\"font-weight: bold;\">81,938</td> <td>1.34 %</td> <td>1,082</td> <td>174</td> <td>470</td> <td>988</td> <td>1.1</td> <td>43</td> <td>83 %</td> <td>0.00 %</td> </tr> <tr> <td>203</td> <td style=\"font-weight: bold; font-size:15px; text-align:left\"><a href=\"/world-population/cayman-islands-population/\">Cayman Islands</a></td> <td style=\"font-weight: bold;\">74,457</td> <td>1.94 %</td> <td>1,419</td> <td>310</td> <td>240</td> <td>896</td> <td>1.5</td> <td>38</td> <td>90 %</td> <td>0.00 %</td> </tr> <tr> <td>204</td> <td style=\"font-weight: bold; font-size:15px; text-align:left\"><a href=\"/world-population/dominica-population/\">Dominica</a></td> <td style=\"font-weight: bold;\">66,205</td> <td>-0.46 %</td> <td>-305</td> <td>88</td> <td>750</td> <td>-200</td> <td>1.5</td> <td>36</td> <td>83 %</td> <td>0.00 %</td> </tr> <tr> <td>205</td> <td style=\"font-weight: bold; font-size:15px; text-align:left\"><a href=\"/world-population/bermuda-population/\">Bermuda</a></td> <td style=\"font-weight: bold;\">64,636</td> <td>-0.10 %</td> <td>-62</td> <td>1,293</td> <td>50</td> <td>-5</td> <td>1.4</td> <td>46</td> <td>93 %</td> <td>0.00 %</td> </tr> <tr> <td>206</td> <td style=\"font-weight: bold; font-size:15px; text-align:left\"><a href=\"/world-population/greenland-population/\">Greenland</a></td> <td style=\"font-weight: bold;\">55,840</td> <td>-0.15 %</td> <td>-82</td> <td>0</td> <td>410,450</td> <td>-284</td> <td>1.9</td> <td>35</td> <td>90 %</td> <td>0.00 %</td> </tr> <tr> <td>207</td> <td style=\"font-weight: bold; font-size:15px; text-align:left\"><a href=\"/world-population/faeroe-islands-population/\">Faeroe Islands</a></td> <td style=\"font-weight: bold;\">55,400</td> <td>1.25 %</td> <td>686</td> <td>40</td> <td>1,396</td> <td>488</td> <td>2.2</td> <td>37</td> <td>40 %</td> <td>0.00 %</td> </tr> <tr> <td>208</td> <td style=\"font-weight: bold; font-size:15px; text-align:left\"><a href=\"/world-population/saint-kitts-and-nevis-population/\">Saint Kitts &amp; Nevis</a></td> <td style=\"font-weight: bold;\">46,843</td> <td>0.18 %</td> <td>85</td> <td>180</td> <td>260</td> <td>-7</td> <td>1.5</td> <td>36</td> <td>39 %</td> <td>0.00 %</td> </tr> <tr> <td>209</td> <td style=\"font-weight: bold; font-size:15px; text-align:left\"><a href=\"/world-population/american-samoa-population/\">American Samoa</a></td> <td style=\"font-weight: bold;\">46,765</td> <td>-1.59 %</td> <td>-756</td> <td>234</td> <td>200</td> <td>-1,110</td> <td>2.3</td> <td>29</td> <td>N.A.</td> <td>0.00 %</td> </tr> <tr> <td>210</td> <td style=\"font-weight: bold; font-size:15px; text-align:left\"><a href=\"/world-population/turks-and-caicos-islands-population/\">Turks and Caicos</a></td> <td style=\"font-weight: bold;\">46,535</td> <td>0.73 %</td> <td>337</td> <td>49</td> <td>950</td> <td>176</td> <td>1.5</td> <td>39</td> <td>79 %</td> <td>0.00 %</td> </tr> <tr> <td>211</td> <td style=\"font-weight: bold; font-size:15px; text-align:left\"><a href=\"/world-population/northern-mariana-islands-population/\">Northern Mariana Islands</a></td> <td style=\"font-weight: bold;\">44,278</td> <td>-1.92 %</td> <td>-865</td> <td>96</td> <td>460</td> <td>-1,097</td> <td>2.3</td> <td>37</td> <td>N.A.</td> <td>0.00 %</td> </tr> <tr> <td>212</td> <td style=\"font-weight: bold; font-size:15px; text-align:left\"><a href=\"/world-population/sint-maarten-population/\">Sint Maarten</a></td> <td style=\"font-weight: bold;\">43,350</td> <td>1.41 %</td> <td>601</td> <td>1,275</td> <td>34</td> <td>558</td> <td>1.4</td> <td>42</td> <td>100 %</td> <td>0.00 %</td> </tr> <tr> <td>213</td> <td style=\"font-weight: bold; font-size:15px; text-align:left\"><a href=\"/world-population/liechtenstein-population/\">Liechtenstein</a></td> <td style=\"font-weight: bold;\">39,870</td> <td>0.69 %</td> <td>272</td> <td>249</td> <td>160</td> <td>206</td> <td>1.5</td> <td>44</td> <td>15 %</td> <td>0.00 %</td> </tr> <tr> <td>214</td> <td style=\"font-weight: bold; font-size:15px; text-align:left\"><a href=\"/world-population/british-virgin-islands-population/\">British Virgin Islands</a></td> <td style=\"font-weight: bold;\">39,471</td> <td>1.25 %</td> <td>486</td> <td>263</td> <td>150</td> <td>212</td> <td>1.0</td> <td>38</td> <td>43 %</td> <td>0.00 %</td> </tr> <tr> <td>215</td> <td style=\"font-weight: bold; font-size:15px; text-align:left\"><a href=\"/world-population/gibraltar-population/\">Gibraltar</a></td> <td style=\"font-weight: bold;\">39,329</td> <td>2.23 %</td> <td>858</td> <td>3,933</td> <td>10</td> <td>598</td> <td>1.9</td> <td>39</td> <td>90 %</td> <td>0.00 %</td> </tr> <tr> <td>216</td> <td style=\"font-weight: bold; font-size:15px; text-align:left\"><a href=\"/world-population/monaco-population/\">Monaco</a></td> <td style=\"font-weight: bold;\">38,631</td> <td>-0.83 %</td> <td>-325</td> <td>25,927</td> <td>1</td> <td>110</td> <td>2.1</td> <td>54</td> <td>N.A.</td> <td>0.00 %</td> </tr> <tr> <td>217</td> <td style=\"font-weight: bold; font-size:15px; text-align:left\"><a href=\"/world-population/marshall-islands-population/\">Marshall Islands</a></td> <td style=\"font-weight: bold;\">37,548</td> <td>-3.29 %</td> <td>-1,279</td> <td>209</td> <td>180</td> <td>-1,765</td> <td>2.9</td> <td>21</td> <td>N.A.</td> <td>0.00 %</td> </tr> <tr> <td>218</td> <td style=\"font-weight: bold; font-size:15px; text-align:left\"><a href=\"/world-population/san-marino-population/\">San Marino</a></td> <td style=\"font-weight: bold;\">33,581</td> <td>-0.45 %</td> <td>-152</td> <td>560</td> <td>60</td> <td>37</td> <td>1.2</td> <td>48</td> <td>100 %</td> <td>0.00 %</td> </tr> <tr> <td>219</td> <td style=\"font-weight: bold; font-size:15px; text-align:left\"><a href=\"/world-population/caribbean-netherlands-population/\">Caribbean Netherlands</a></td> <td style=\"font-weight: bold;\">30,675</td> <td>2.60 %</td> <td>777</td> <td>94</td> <td>328</td> <td>685</td> <td>1.5</td> <td>40</td> <td>66 %</td> <td>0.00 %</td> </tr> <tr> <td>220</td> <td style=\"font-weight: bold; font-size:15px; text-align:left\"><a href=\"/world-population/saint-martin-population/\">Saint Martin</a></td> <td style=\"font-weight: bold;\">26,129</td> <td>-5.04 %</td> <td>-1,386</td> <td>493</td> <td>53</td> <td>-1,424</td> <td>2.7</td> <td>41</td> <td>0 %</td> <td>0.00 %</td> </tr> <tr> <td>221</td> <td style=\"font-weight: bold; font-size:15px; text-align:left\"><a href=\"/world-population/palau-population/\">Palau</a></td> <td style=\"font-weight: bold;\">17,695</td> <td>-0.18 %</td> <td>-32</td> <td>38</td> <td>460</td> <td>-14</td> <td>1.9</td> <td>38</td> <td>N.A.</td> <td>0.00 %</td> </tr> <tr> <td>222</td> <td style=\"font-weight: bold; font-size:15px; text-align:left\"><a href=\"/world-population/anguilla-population/\">Anguilla</a></td> <td style=\"font-weight: bold;\">14,598</td> <td>1.30 %</td> <td>188</td> <td>162</td> <td>90</td> <td>109</td> <td>1.4</td> <td>38</td> <td>N.A.</td> <td>0.00 %</td> </tr> <tr> <td>223</td> <td style=\"font-weight: bold; font-size:15px; text-align:left\"><a href=\"/world-population/cook-islands-population/\">Cook Islands</a></td> <td style=\"font-weight: bold;\">13,729</td> <td>-3.47 %</td> <td>-493</td> <td>57</td> <td>240</td> <td>-505</td> <td>2.0</td> <td>36</td> <td>98 %</td> <td>0.00 %</td> </tr> <tr> <td>224</td> <td style=\"font-weight: bold; font-size:15px; text-align:left\"><a href=\"/world-population/nauru-population/\">Nauru</a></td> <td style=\"font-weight: bold;\">11,947</td> <td>0.61 %</td> <td>72</td> <td>597</td> <td>20</td> <td>-121</td> <td>3.3</td> <td>20</td> <td>95 %</td> <td>0.00 %</td> </tr> <tr> <td>225</td> <td style=\"font-weight: bold; font-size:15px; text-align:left\"><a href=\"/world-population/wallis-and-futuna-islands-population/\">Wallis &amp; Futuna</a></td> <td style=\"font-weight: bold;\">11,277</td> <td>-0.82 %</td> <td>-93</td> <td>81</td> <td>140</td> <td>-93</td> <td>1.4</td> <td>38</td> <td>0 %</td> <td>0.00 %</td> </tr> <tr> <td>226</td> <td style=\"font-weight: bold; font-size:15px; text-align:left\"><a href=\"/world-population/saint-barthelemy-population/\">Saint Barthelemy</a></td> <td style=\"font-weight: bold;\">11,258</td> <td>1.56 %</td> <td>173</td> <td>536</td> <td>21</td> <td>180</td> <td>0.8</td> <td>39</td> <td>0 %</td> <td>0.00 %</td> </tr> <tr> <td>227</td> <td style=\"font-weight: bold; font-size:15px; text-align:left\"><a href=\"/world-population/tuvalu-population/\">Tuvalu</a></td> <td style=\"font-weight: bold;\">9,646</td> <td>-1.73 %</td> <td>-170</td> <td>322</td> <td>30</td> <td>-280</td> <td>3.2</td> <td>24</td> <td>83 %</td> <td>0.00 %</td> </tr> <tr> <td>228</td> <td style=\"font-weight: bold; font-size:15px; text-align:left\"><a href=\"/world-population/saint-pierre-and-miquelon-population/\">Saint Pierre &amp; Miquelon</a></td> <td style=\"font-weight: bold;\">5,628</td> <td>-0.93 %</td> <td>-53</td> <td>24</td> <td>230</td> <td>-2</td> <td>1.3</td> <td>47</td> <td>N.A.</td> <td>0.00 %</td> </tr> <tr> <td>229</td> <td style=\"font-weight: bold; font-size:15px; text-align:left\"><a href=\"/world-population/saint-helena-population/\">Saint Helena</a></td> <td style=\"font-weight: bold;\">5,237</td> <td>-0.98 %</td> <td>-52</td> <td>13</td> <td>390</td> <td>4</td> <td>1.6</td> <td>51</td> <td>33 %</td> <td>0.00 %</td> </tr> <tr> <td>230</td> <td style=\"font-weight: bold; font-size:15px; text-align:left\"><a href=\"/world-population/montserrat-population/\">Montserrat</a></td> <td style=\"font-weight: bold;\">4,389</td> <td>-0.70 %</td> <td>-31</td> <td>44</td> <td>100</td> <td>-7</td> <td>1.4</td> <td>42</td> <td>11 %</td> <td>0.00 %</td> </tr> <tr> <td>231</td> <td style=\"font-weight: bold; font-size:15px; text-align:left\"><a href=\"/world-population/falkland-islands-malvinas-population/\">Falkland Islands</a></td> <td style=\"font-weight: bold;\">3,470</td> <td>-0.20 %</td> <td>-7</td> <td>0</td> <td>12,170</td> <td>-13</td> <td>1.7</td> <td>42</td> <td>68 %</td> <td>0.00 %</td> </tr> <tr> <td>232</td> <td style=\"font-weight: bold; font-size:15px; text-align:left\"><a href=\"/world-population/tokelau-population/\">Tokelau</a></td> <td style=\"font-weight: bold;\">2,506</td> <td>4.55 %</td> <td>109</td> <td>251</td> <td>10</td> <td>72</td> <td>2.6</td> <td>27</td> <td>0 %</td> <td>0.00 %</td> </tr> <tr> <td>233</td> <td style=\"font-weight: bold; font-size:15px; text-align:left\"><a href=\"/world-population/niue-population/\">Niue</a></td> <td style=\"font-weight: bold;\">1,819</td> <td>0.11 %</td> <td>2</td> <td>7</td> <td>260</td> <td>10</td> <td>2.5</td> <td>36</td> <td>44 %</td> <td>0.00 %</td> </tr> <tr> <td>234</td> <td style=\"font-weight: bold; font-size:15px; text-align:left\"><a href=\"/world-population/holy-see-population/\">Holy See</a></td> <td style=\"font-weight: bold;\">496</td> <td>0.00 %</td> <td>0</td> <td>1,240</td> <td>0</td> <td>18</td> <td>1.0</td> <td>59</td> <td>N.A.</td> <td>0.00 %</td> </tr> </tbody></table><br/><div class=\"source-table\">Source: <strong>Worldometer</strong> (<a href=\"/\">www.Worldometers.info</a>) <div class=\"source-table-elab\">Elaboration of data by United Nations, Department of Economic and Social Affairs, Population Division. <a href=\"https://population.un.org/wpp/\">World Population Prospects: The 2024 Revision</a>. (Medium-fertility variant).</div></div></div> <!-- Tag ID: worldometers_728x90_970x90_BTF --><div align=\"center\" id=\"worldometers_728x90_970x90_BTF\"><script data-cfasync=\"false\" type=\"text/javascript\"> freestar.config.enabled_slots.push({ placementName: \"worldometers_728x90_970x90_BTF\", slotId: \"worldometers_728x90_970x90_BTF\" });</script></div></div><!-- *** CONTENT A *** --></div></div></div> <!--=== Closed TOP Content Container ===--> <footer><div class=\"footerlinks\"><div style=\"margin-bottom:20px\"><a href=\"/\"><img border=\"0\" class=\"img-footer\" src=\"/img/worldometers-logo-footer.png\"/></a></div><a href=\"/about/\">about</a> | <a href=\"/faq/\">faq</a> | <a href=\"/languages/\">languages</a> | <a href=\"/contact/\">contact</a></div><ul class=\"list-inline text-center socialbuttons\"><li><a data-placement=\"bottom\" data-toggle=\"tooltip\" href=\"/newsletter-subscribe/\" title=\"Newsletter\"><i class=\"fa fa-bullhorn fa-round\"></i></a></li> <li><a href=\"https://twitter.com/Worldometers\"><i class=\"fa fa-twitter fa-round\"></i></a></li> <li><a href=\"https://www.facebook.com/Worldometers.info\"><i class=\"fa fa-facebook fa-round\"></i></a></li></ul> <div class=\"copy\">© Copyright Worldometers.info - All rights reserved - <a href=\"/disclaimer/\">Disclaimer &amp; Privacy Policy</a></div></footer><!-- ADDTHIS--><script async=\"async\" src=\"//s7.addthis.com/js/300/addthis_widget.js#pubid=ra-54615fa823b2af68\" type=\"text/javascript\"></script> <!-- PAGEFAIR --><script type=\"text/javascript\"> (function() { function async_load(script_url){ var protocol = ('https:' == document.location.protocol ? 'https://' : 'http://'); var s = document.createElement('script'); s.src = protocol + script_url; var x = document.getElementsByTagName('script')[0]; x.parentNode.insertBefore(s, x); } bm_website_code = '7849CD9451D34931'; jQuery(document).ready(function(){async_load('asset.pagefair.com/measure.min.js')}); jQuery(document).ready(function(){async_load('asset.pagefair.net/ads.min.js')}); })();</script> <!-- PAGEFAIR --> <!-- Quantcast Tag --><script type=\"text/javascript\">var _qevents = _qevents || [];\n",
      "(function() {\n",
      "var elem = document.createElement('script');\n",
      "elem.src = (document.location.protocol == \"https:\" ? \"https://secure\" : \"http://edge\") + \".quantserve.com/quant.js\";\n",
      "elem.async = true;\n",
      "elem.type = \"text/javascript\";\n",
      "var scpt = document.getElementsByTagName('script')[0];\n",
      "scpt.parentNode.insertBefore(elem, scpt);\n",
      "})();\n",
      "_qevents.push({\n",
      "qacct:\"p-Pd9JxUkvV0m7q\"\n",
      "});</script><noscript><div style=\"display:none;\"><img alt=\"Quantcast\" border=\"0\" height=\"1\" src=\"//pixel.quantserve.com/pixel/p-Pd9JxUkvV0m7q.gif\" width=\"1\"/></div></noscript><!-- End Quantcast tag --></body></html>\n"
     ]
    }
   ],
   "source": [
    "print(soup)"
   ]
  },
  {
   "cell_type": "code",
   "execution_count": 12,
   "id": "e10fda9c",
   "metadata": {},
   "outputs": [],
   "source": [
    "table = soup.find('table')"
   ]
  },
  {
   "cell_type": "code",
   "execution_count": 13,
   "id": "1584e0d7",
   "metadata": {},
   "outputs": [
    {
     "data": {
      "text/plain": [
       "[<th>#</th>,\n",
       " <th>Country (or dependency)</th>,\n",
       " <th>Population<br/> (2024)</th>,\n",
       " <th>Yearly<br/> Change</th>,\n",
       " <th>Net<br/> Change</th>,\n",
       " <th>Density<br/> (P/Km²)</th>,\n",
       " <th>Land Area<br/> (Km²)</th>,\n",
       " <th>Migrants<br/> (net)</th>,\n",
       " <th>Fert.<br/> Rate</th>,\n",
       " <th>Med.<br/> Age</th>,\n",
       " <th>Urban<br/> Pop %</th>,\n",
       " <th>World<br/> Share</th>]"
      ]
     },
     "execution_count": 13,
     "metadata": {},
     "output_type": "execute_result"
    }
   ],
   "source": [
    "table.find_all('th')"
   ]
  },
  {
   "cell_type": "code",
   "execution_count": 14,
   "id": "ab9190dd",
   "metadata": {},
   "outputs": [],
   "source": [
    "world_columns = table.find_all('th')"
   ]
  },
  {
   "cell_type": "code",
   "execution_count": 15,
   "id": "f4ad8ada",
   "metadata": {},
   "outputs": [
    {
     "name": "stdout",
     "output_type": "stream",
     "text": [
      "['#', 'Country (or dependency)', 'Population (2024)', 'Yearly Change', 'Net Change', 'Density (P/Km²)', 'Land Area (Km²)', 'Migrants (net)', 'Fert. Rate', 'Med. Age', 'Urban Pop %', 'World Share']\n"
     ]
    }
   ],
   "source": [
    "world_column_titles = [columns.text for columns in world_columns]\n",
    "print(world_column_titles)"
   ]
  },
  {
   "cell_type": "code",
   "execution_count": 16,
   "id": "3adf636a",
   "metadata": {},
   "outputs": [],
   "source": [
    "import pandas as pd"
   ]
  },
  {
   "cell_type": "code",
   "execution_count": 17,
   "id": "5f966599",
   "metadata": {},
   "outputs": [
    {
     "data": {
      "text/html": [
       "<div>\n",
       "<style scoped>\n",
       "    .dataframe tbody tr th:only-of-type {\n",
       "        vertical-align: middle;\n",
       "    }\n",
       "\n",
       "    .dataframe tbody tr th {\n",
       "        vertical-align: top;\n",
       "    }\n",
       "\n",
       "    .dataframe thead th {\n",
       "        text-align: right;\n",
       "    }\n",
       "</style>\n",
       "<table border=\"1\" class=\"dataframe\">\n",
       "  <thead>\n",
       "    <tr style=\"text-align: right;\">\n",
       "      <th></th>\n",
       "      <th>#</th>\n",
       "      <th>Country (or dependency)</th>\n",
       "      <th>Population (2024)</th>\n",
       "      <th>Yearly Change</th>\n",
       "      <th>Net Change</th>\n",
       "      <th>Density (P/Km²)</th>\n",
       "      <th>Land Area (Km²)</th>\n",
       "      <th>Migrants (net)</th>\n",
       "      <th>Fert. Rate</th>\n",
       "      <th>Med. Age</th>\n",
       "      <th>Urban Pop %</th>\n",
       "      <th>World Share</th>\n",
       "    </tr>\n",
       "  </thead>\n",
       "  <tbody>\n",
       "  </tbody>\n",
       "</table>\n",
       "</div>"
      ],
      "text/plain": [
       "Empty DataFrame\n",
       "Columns: [#, Country (or dependency), Population (2024), Yearly Change, Net Change, Density (P/Km²), Land Area (Km²), Migrants (net), Fert. Rate, Med. Age, Urban Pop %, World Share]\n",
       "Index: []"
      ]
     },
     "execution_count": 17,
     "metadata": {},
     "output_type": "execute_result"
    }
   ],
   "source": [
    "df = pd.DataFrame(columns = world_column_titles)\n",
    "df"
   ]
  },
  {
   "cell_type": "code",
   "execution_count": 21,
   "id": "5020aecd",
   "metadata": {},
   "outputs": [],
   "source": [
    "world_rows = table.find_all('tr')"
   ]
  },
  {
   "cell_type": "code",
   "execution_count": 28,
   "id": "3a869b05",
   "metadata": {},
   "outputs": [
    {
     "data": {
      "text/html": [
       "<div>\n",
       "<style scoped>\n",
       "    .dataframe tbody tr th:only-of-type {\n",
       "        vertical-align: middle;\n",
       "    }\n",
       "\n",
       "    .dataframe tbody tr th {\n",
       "        vertical-align: top;\n",
       "    }\n",
       "\n",
       "    .dataframe thead th {\n",
       "        text-align: right;\n",
       "    }\n",
       "</style>\n",
       "<table border=\"1\" class=\"dataframe\">\n",
       "  <thead>\n",
       "    <tr style=\"text-align: right;\">\n",
       "      <th></th>\n",
       "      <th>#</th>\n",
       "      <th>Country (or dependency)</th>\n",
       "      <th>Population (2024)</th>\n",
       "      <th>Yearly Change</th>\n",
       "      <th>Net Change</th>\n",
       "      <th>Density (P/Km²)</th>\n",
       "      <th>Land Area (Km²)</th>\n",
       "      <th>Migrants (net)</th>\n",
       "      <th>Fert. Rate</th>\n",
       "      <th>Med. Age</th>\n",
       "      <th>Urban Pop %</th>\n",
       "      <th>World Share</th>\n",
       "    </tr>\n",
       "  </thead>\n",
       "  <tbody>\n",
       "    <tr>\n",
       "      <th>0</th>\n",
       "      <td>1</td>\n",
       "      <td>India</td>\n",
       "      <td>1,450,935,791</td>\n",
       "      <td>0.89 %</td>\n",
       "      <td>12,866,195</td>\n",
       "      <td>488</td>\n",
       "      <td>2,973,190</td>\n",
       "      <td>-630,830</td>\n",
       "      <td>2.0</td>\n",
       "      <td>28</td>\n",
       "      <td>37 %</td>\n",
       "      <td>17.78 %</td>\n",
       "    </tr>\n",
       "    <tr>\n",
       "      <th>1</th>\n",
       "      <td>2</td>\n",
       "      <td>China</td>\n",
       "      <td>1,419,321,278</td>\n",
       "      <td>-0.23 %</td>\n",
       "      <td>-3,263,655</td>\n",
       "      <td>151</td>\n",
       "      <td>9,388,211</td>\n",
       "      <td>-318,992</td>\n",
       "      <td>1.0</td>\n",
       "      <td>40</td>\n",
       "      <td>66 %</td>\n",
       "      <td>17.39 %</td>\n",
       "    </tr>\n",
       "    <tr>\n",
       "      <th>2</th>\n",
       "      <td>3</td>\n",
       "      <td>United States</td>\n",
       "      <td>345,426,571</td>\n",
       "      <td>0.57 %</td>\n",
       "      <td>1,949,236</td>\n",
       "      <td>38</td>\n",
       "      <td>9,147,420</td>\n",
       "      <td>1,286,132</td>\n",
       "      <td>1.6</td>\n",
       "      <td>38</td>\n",
       "      <td>82 %</td>\n",
       "      <td>4.23 %</td>\n",
       "    </tr>\n",
       "    <tr>\n",
       "      <th>3</th>\n",
       "      <td>4</td>\n",
       "      <td>Indonesia</td>\n",
       "      <td>283,487,931</td>\n",
       "      <td>0.82 %</td>\n",
       "      <td>2,297,864</td>\n",
       "      <td>156</td>\n",
       "      <td>1,811,570</td>\n",
       "      <td>-38,469</td>\n",
       "      <td>2.1</td>\n",
       "      <td>30</td>\n",
       "      <td>59 %</td>\n",
       "      <td>3.47 %</td>\n",
       "    </tr>\n",
       "    <tr>\n",
       "      <th>4</th>\n",
       "      <td>5</td>\n",
       "      <td>Pakistan</td>\n",
       "      <td>251,269,164</td>\n",
       "      <td>1.52 %</td>\n",
       "      <td>3,764,669</td>\n",
       "      <td>326</td>\n",
       "      <td>770,880</td>\n",
       "      <td>-1,401,173</td>\n",
       "      <td>3.5</td>\n",
       "      <td>20</td>\n",
       "      <td>34 %</td>\n",
       "      <td>3.08 %</td>\n",
       "    </tr>\n",
       "    <tr>\n",
       "      <th>...</th>\n",
       "      <td>...</td>\n",
       "      <td>...</td>\n",
       "      <td>...</td>\n",
       "      <td>...</td>\n",
       "      <td>...</td>\n",
       "      <td>...</td>\n",
       "      <td>...</td>\n",
       "      <td>...</td>\n",
       "      <td>...</td>\n",
       "      <td>...</td>\n",
       "      <td>...</td>\n",
       "      <td>...</td>\n",
       "    </tr>\n",
       "    <tr>\n",
       "      <th>697</th>\n",
       "      <td>230</td>\n",
       "      <td>Montserrat</td>\n",
       "      <td>4,389</td>\n",
       "      <td>-0.70 %</td>\n",
       "      <td>-31</td>\n",
       "      <td>44</td>\n",
       "      <td>100</td>\n",
       "      <td>-7</td>\n",
       "      <td>1.4</td>\n",
       "      <td>42</td>\n",
       "      <td>11 %</td>\n",
       "      <td>0.00 %</td>\n",
       "    </tr>\n",
       "    <tr>\n",
       "      <th>698</th>\n",
       "      <td>231</td>\n",
       "      <td>Falkland Islands</td>\n",
       "      <td>3,470</td>\n",
       "      <td>-0.20 %</td>\n",
       "      <td>-7</td>\n",
       "      <td>0</td>\n",
       "      <td>12,170</td>\n",
       "      <td>-13</td>\n",
       "      <td>1.7</td>\n",
       "      <td>42</td>\n",
       "      <td>68 %</td>\n",
       "      <td>0.00 %</td>\n",
       "    </tr>\n",
       "    <tr>\n",
       "      <th>699</th>\n",
       "      <td>232</td>\n",
       "      <td>Tokelau</td>\n",
       "      <td>2,506</td>\n",
       "      <td>4.55 %</td>\n",
       "      <td>109</td>\n",
       "      <td>251</td>\n",
       "      <td>10</td>\n",
       "      <td>72</td>\n",
       "      <td>2.6</td>\n",
       "      <td>27</td>\n",
       "      <td>0 %</td>\n",
       "      <td>0.00 %</td>\n",
       "    </tr>\n",
       "    <tr>\n",
       "      <th>700</th>\n",
       "      <td>233</td>\n",
       "      <td>Niue</td>\n",
       "      <td>1,819</td>\n",
       "      <td>0.11 %</td>\n",
       "      <td>2</td>\n",
       "      <td>7</td>\n",
       "      <td>260</td>\n",
       "      <td>10</td>\n",
       "      <td>2.5</td>\n",
       "      <td>36</td>\n",
       "      <td>44 %</td>\n",
       "      <td>0.00 %</td>\n",
       "    </tr>\n",
       "    <tr>\n",
       "      <th>701</th>\n",
       "      <td>234</td>\n",
       "      <td>Holy See</td>\n",
       "      <td>496</td>\n",
       "      <td>0.00 %</td>\n",
       "      <td>0</td>\n",
       "      <td>1,240</td>\n",
       "      <td>0</td>\n",
       "      <td>18</td>\n",
       "      <td>1.0</td>\n",
       "      <td>59</td>\n",
       "      <td>N.A.</td>\n",
       "      <td>0.00 %</td>\n",
       "    </tr>\n",
       "  </tbody>\n",
       "</table>\n",
       "<p>702 rows × 12 columns</p>\n",
       "</div>"
      ],
      "text/plain": [
       "       # Country (or dependency) Population (2024) Yearly Change  Net Change  \\\n",
       "0      1                   India     1,450,935,791        0.89 %  12,866,195   \n",
       "1      2                   China     1,419,321,278       -0.23 %  -3,263,655   \n",
       "2      3           United States       345,426,571        0.57 %   1,949,236   \n",
       "3      4               Indonesia       283,487,931        0.82 %   2,297,864   \n",
       "4      5                Pakistan       251,269,164        1.52 %   3,764,669   \n",
       "..   ...                     ...               ...           ...         ...   \n",
       "697  230              Montserrat             4,389       -0.70 %         -31   \n",
       "698  231        Falkland Islands             3,470       -0.20 %          -7   \n",
       "699  232                 Tokelau             2,506        4.55 %         109   \n",
       "700  233                    Niue             1,819        0.11 %           2   \n",
       "701  234                Holy See               496        0.00 %           0   \n",
       "\n",
       "    Density (P/Km²) Land Area (Km²) Migrants (net) Fert. Rate Med. Age  \\\n",
       "0               488       2,973,190       -630,830        2.0       28   \n",
       "1               151       9,388,211       -318,992        1.0       40   \n",
       "2                38       9,147,420      1,286,132        1.6       38   \n",
       "3               156       1,811,570        -38,469        2.1       30   \n",
       "4               326         770,880     -1,401,173        3.5       20   \n",
       "..              ...             ...            ...        ...      ...   \n",
       "697              44             100             -7        1.4       42   \n",
       "698               0          12,170            -13        1.7       42   \n",
       "699             251              10             72        2.6       27   \n",
       "700               7             260             10        2.5       36   \n",
       "701           1,240               0             18        1.0       59   \n",
       "\n",
       "    Urban Pop % World Share  \n",
       "0          37 %     17.78 %  \n",
       "1          66 %     17.39 %  \n",
       "2          82 %      4.23 %  \n",
       "3          59 %      3.47 %  \n",
       "4          34 %      3.08 %  \n",
       "..          ...         ...  \n",
       "697        11 %      0.00 %  \n",
       "698        68 %      0.00 %  \n",
       "699         0 %      0.00 %  \n",
       "700        44 %      0.00 %  \n",
       "701        N.A.      0.00 %  \n",
       "\n",
       "[702 rows x 12 columns]"
      ]
     },
     "execution_count": 28,
     "metadata": {},
     "output_type": "execute_result"
    }
   ],
   "source": [
    "for row in world_rows[1:]:\n",
    "    row_data = row.find_all('td')\n",
    "    individual_row_data = [data.text for data in row_data]\n",
    "    \n",
    "    length = len(df)\n",
    "    df.loc[length]  = individual_row_data\n",
    "    \n",
    "    \n",
    "df"
   ]
  },
  {
   "cell_type": "code",
   "execution_count": 24,
   "id": "e92c0ad8",
   "metadata": {},
   "outputs": [
    {
     "data": {
      "text/html": [
       "<div>\n",
       "<style scoped>\n",
       "    .dataframe tbody tr th:only-of-type {\n",
       "        vertical-align: middle;\n",
       "    }\n",
       "\n",
       "    .dataframe tbody tr th {\n",
       "        vertical-align: top;\n",
       "    }\n",
       "\n",
       "    .dataframe thead th {\n",
       "        text-align: right;\n",
       "    }\n",
       "</style>\n",
       "<table border=\"1\" class=\"dataframe\">\n",
       "  <thead>\n",
       "    <tr style=\"text-align: right;\">\n",
       "      <th></th>\n",
       "      <th>#</th>\n",
       "      <th>Country (or dependency)</th>\n",
       "      <th>Population (2024)</th>\n",
       "      <th>Yearly Change</th>\n",
       "      <th>Net Change</th>\n",
       "      <th>Density (P/Km²)</th>\n",
       "      <th>Land Area (Km²)</th>\n",
       "      <th>Migrants (net)</th>\n",
       "      <th>Fert. Rate</th>\n",
       "      <th>Med. Age</th>\n",
       "      <th>Urban Pop %</th>\n",
       "      <th>World Share</th>\n",
       "    </tr>\n",
       "  </thead>\n",
       "  <tbody>\n",
       "  </tbody>\n",
       "</table>\n",
       "</div>"
      ],
      "text/plain": [
       "Empty DataFrame\n",
       "Columns: [#, Country (or dependency), Population (2024), Yearly Change, Net Change, Density (P/Km²), Land Area (Km²), Migrants (net), Fert. Rate, Med. Age, Urban Pop %, World Share]\n",
       "Index: []"
      ]
     },
     "execution_count": 24,
     "metadata": {},
     "output_type": "execute_result"
    }
   ],
   "source": [
    "df"
   ]
  },
  {
   "cell_type": "code",
   "execution_count": 29,
   "id": "430c8fa5",
   "metadata": {},
   "outputs": [],
   "source": [
    "df.to_csv(r'/Users/bigmeech/Desktop/Portfolio PJs/World_Pop_Scraped.csv', index = False)"
   ]
  },
  {
   "cell_type": "code",
   "execution_count": null,
   "id": "ecf11bf8",
   "metadata": {},
   "outputs": [],
   "source": []
  }
 ],
 "metadata": {
  "kernelspec": {
   "display_name": "Python 3 (ipykernel)",
   "language": "python",
   "name": "python3"
  },
  "language_info": {
   "codemirror_mode": {
    "name": "ipython",
    "version": 3
   },
   "file_extension": ".py",
   "mimetype": "text/x-python",
   "name": "python",
   "nbconvert_exporter": "python",
   "pygments_lexer": "ipython3",
   "version": "3.11.5"
  }
 },
 "nbformat": 4,
 "nbformat_minor": 5
}
