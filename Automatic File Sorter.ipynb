{
 "cells": [
  {
   "cell_type": "markdown",
   "id": "647c88b5",
   "metadata": {},
   "source": [
    "# Automatic File Sorter"
   ]
  },
  {
   "cell_type": "code",
   "execution_count": 21,
   "id": "6ec001a4",
   "metadata": {},
   "outputs": [],
   "source": [
    "import os, shutil"
   ]
  },
  {
   "cell_type": "code",
   "execution_count": 24,
   "id": "ba5e00c2",
   "metadata": {},
   "outputs": [],
   "source": [
    "path = r' /Users/bigmeech/Desktop/Portfolio PJs//'"
   ]
  },
  {
   "cell_type": "code",
   "execution_count": 29,
   "id": "ab5dcbc5",
   "metadata": {},
   "outputs": [],
   "source": [
    "folder_names = ['CSV Files', 'Text Files', 'Image Files']\n",
    "\n",
    "for folder in folder_names:\n",
    "    if not os.path.exists(path + folder):\n",
    "        os.makedirs(path + folder)\n",
    "\n",
    "file_names = os.listdir(path)\n",
    "\n",
    "\n",
    "for file in file_names:\n",
    "    if \".csv\" in file and not os.path.exists(path + 'CSV Files//' + file):\n",
    "        shutil.move(path + file, path + 'CSV Files//' + file)\n",
    "    elif \".csv\" in file and not os.path.exists(path + 'Text Files//' + file):\n",
    "        shutil.move(path + file, path + 'Text Files//' + file)\n",
    "    elif \".csv\" in file and not os.path.exists(path + 'Image Files//' + file):\n",
    "        shutil.move(path + file, path + 'Image Files//' + file)"
   ]
  }
 ],
 "metadata": {
  "kernelspec": {
   "display_name": "Python 3 (ipykernel)",
   "language": "python",
   "name": "python3"
  },
  "language_info": {
   "codemirror_mode": {
    "name": "ipython",
    "version": 3
   },
   "file_extension": ".py",
   "mimetype": "text/x-python",
   "name": "python",
   "nbconvert_exporter": "python",
   "pygments_lexer": "ipython3",
   "version": "3.11.5"
  }
 },
 "nbformat": 4,
 "nbformat_minor": 5
}
